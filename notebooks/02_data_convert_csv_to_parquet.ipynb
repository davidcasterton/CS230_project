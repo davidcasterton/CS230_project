{
 "cells": [
  {
   "cell_type": "code",
   "execution_count": 8,
   "metadata": {},
   "outputs": [],
   "source": [
    "import numpy\n",
    "import os\n",
    "import pandas\n",
    "import pyarrow\n",
    "import pyarrow.parquet as pq\n",
    "import sys"
   ]
  },
  {
   "cell_type": "code",
   "execution_count": 9,
   "metadata": {},
   "outputs": [],
   "source": [
    "data_dir = os.path.join(os.path.abspath(__file__).split('CS230_project')[0], 'CS230_project', 'data')"
   ]
  },
  {
   "cell_type": "code",
   "execution_count": 10,
   "metadata": {},
   "outputs": [
    {
     "name": "stdout",
     "output_type": "stream",
     "text": [
      "[0, 1, 2, 3, 4, 5, 6, 7, 8, 9, 11]\n"
     ]
    }
   ],
   "source": [
    "# skip: (0-9) excess header rows, (11) units row containing special characters\n",
    "rows_to_skip = list(range(10))\n",
    "rows_to_skip.append(11)\n",
    "print(rows_to_skip)"
   ]
  },
  {
   "cell_type": "code",
   "execution_count": 16,
   "metadata": {},
   "outputs": [
    {
     "name": "stdout",
     "output_type": "stream",
     "text": [
      "input: /home/dave/code/github/CS230_project/data/2014_Targa_Sixty-Six/20140221_03_01_03_250lm.csv\n",
      "output: /home/dave/code/github/CS230_project/data/2014_Targa_Sixty-Six/20140221_03_01_03_250lm.parquet\n",
      "input: /home/dave/code/github/CS230_project/data/2014_Targa_Sixty-Six/20140222_02_01_03_250lm.csv\n",
      "output: /home/dave/code/github/CS230_project/data/2014_Targa_Sixty-Six/20140222_02_01_03_250lm.parquet\n",
      "input: /home/dave/code/github/CS230_project/data/2014_Targa_Sixty-Six/20140222_01_01_03_250lm.csv\n",
      "output: /home/dave/code/github/CS230_project/data/2014_Targa_Sixty-Six/20140222_01_01_03_250lm.parquet\n",
      "input: /home/dave/code/github/CS230_project/data/2014_Targa_Sixty-Six/20140221_03_02_03_250lm.csv\n",
      "output: /home/dave/code/github/CS230_project/data/2014_Targa_Sixty-Six/20140221_03_02_03_250lm.parquet\n",
      "input: /home/dave/code/github/CS230_project/data/2014_Targa_Sixty-Six/20140221_01_01_03_250lm.csv\n",
      "output: /home/dave/code/github/CS230_project/data/2014_Targa_Sixty-Six/20140221_01_01_03_250lm.parquet\n",
      "input: /home/dave/code/github/CS230_project/data/2014_Targa_Sixty-Six/20140221_02_01_03_250lm.csv\n",
      "output: /home/dave/code/github/CS230_project/data/2014_Targa_Sixty-Six/20140221_02_01_03_250lm.parquet\n",
      "input: /home/dave/code/github/CS230_project/data/2014_Targa_Sixty-Six/250lm.csv\n",
      "output: /home/dave/code/github/CS230_project/data/2014_Targa_Sixty-Six/250lm.parquet\n",
      "input: /home/dave/code/github/CS230_project/data/2014_Targa_Sixty-Six/20140221_01_02_03_250lm.csv\n",
      "output: /home/dave/code/github/CS230_project/data/2014_Targa_Sixty-Six/20140221_01_02_03_250lm.parquet\n",
      "input: /home/dave/code/github/CS230_project/data/2014_Targa_Sixty-Six/20140221_04_01_03_250lm.csv\n",
      "output: /home/dave/code/github/CS230_project/data/2014_Targa_Sixty-Six/20140221_04_01_03_250lm.parquet\n",
      "input: /home/dave/code/github/CS230_project/data/2014_Targa_Sixty-Six/20140221_03_03_03_250lm.csv\n",
      "output: /home/dave/code/github/CS230_project/data/2014_Targa_Sixty-Six/20140221_03_03_03_250lm.parquet\n",
      "input: /home/dave/code/github/CS230_project/data/2013_Monterey_Motorsports_Reunion/20130811_02_01_01_grandsport.csv\n",
      "output: /home/dave/code/github/CS230_project/data/2013_Monterey_Motorsports_Reunion/20130811_02_01_01_grandsport.parquet\n",
      "input: /home/dave/code/github/CS230_project/data/2013_Monterey_Motorsports_Reunion/20130816_01_01_02_grandsport.csv\n",
      "output: /home/dave/code/github/CS230_project/data/2013_Monterey_Motorsports_Reunion/20130816_01_01_02_grandsport.parquet\n",
      "input: /home/dave/code/github/CS230_project/data/2013_Monterey_Motorsports_Reunion/20130810_01_01_01_grandsport.csv\n",
      "output: /home/dave/code/github/CS230_project/data/2013_Monterey_Motorsports_Reunion/20130810_01_01_01_grandsport.parquet\n",
      "input: /home/dave/code/github/CS230_project/data/2013_Monterey_Motorsports_Reunion/grandsport.csv\n",
      "output: /home/dave/code/github/CS230_project/data/2013_Monterey_Motorsports_Reunion/grandsport.parquet\n",
      "input: /home/dave/code/github/CS230_project/data/2013_Monterey_Motorsports_Reunion/20130817_02_01_02_grandsport.csv\n",
      "output: /home/dave/code/github/CS230_project/data/2013_Monterey_Motorsports_Reunion/20130817_02_01_02_grandsport.parquet\n",
      "input: /home/dave/code/github/CS230_project/data/2013_Monterey_Motorsports_Reunion/20130815_01_01_02_grandsport.csv\n",
      "output: /home/dave/code/github/CS230_project/data/2013_Monterey_Motorsports_Reunion/20130815_01_01_02_grandsport.parquet\n",
      "input: /home/dave/code/github/CS230_project/data/2013_Monterey_Motorsports_Reunion/20130817_01_01_02_grandsport.csv\n",
      "output: /home/dave/code/github/CS230_project/data/2013_Monterey_Motorsports_Reunion/20130817_01_01_02_grandsport.parquet\n",
      "input: /home/dave/code/github/CS230_project/data/2013_Monterey_Motorsports_Reunion/20130810_02_01_01_grandsport.csv\n",
      "output: /home/dave/code/github/CS230_project/data/2013_Monterey_Motorsports_Reunion/20130810_02_01_01_grandsport.parquet\n",
      "input: /home/dave/code/github/CS230_project/data/2013_Monterey_Motorsports_Reunion/20130811_01_01_01_grandsport.csv\n",
      "output: /home/dave/code/github/CS230_project/data/2013_Monterey_Motorsports_Reunion/20130811_01_01_01_grandsport.parquet\n",
      "input: /home/dave/code/github/CS230_project/data/2013_Targa_Sixty-Six/20130222_01_01_03_grandsport.csv\n",
      "output: /home/dave/code/github/CS230_project/data/2013_Targa_Sixty-Six/20130222_01_01_03_grandsport.parquet\n",
      "input: /home/dave/code/github/CS230_project/data/2013_Targa_Sixty-Six/20130223_01_01_03_grandsport.csv\n",
      "output: /home/dave/code/github/CS230_project/data/2013_Targa_Sixty-Six/20130223_01_01_03_grandsport.parquet\n",
      "input: /home/dave/code/github/CS230_project/data/2013_Targa_Sixty-Six/20130222_01_02_03_grandsport.csv\n",
      "output: /home/dave/code/github/CS230_project/data/2013_Targa_Sixty-Six/20130222_01_02_03_grandsport.parquet\n",
      "input: /home/dave/code/github/CS230_project/data/2013_Targa_Sixty-Six/20130223_01_02_03_grandsport.csv\n",
      "output: /home/dave/code/github/CS230_project/data/2013_Targa_Sixty-Six/20130223_01_02_03_grandsport.parquet\n",
      "input: /home/dave/code/github/CS230_project/data/2013_Targa_Sixty-Six/20130222_02_01_03_grandsport.csv\n",
      "output: /home/dave/code/github/CS230_project/data/2013_Targa_Sixty-Six/20130222_02_01_03_grandsport.parquet\n",
      "input: /home/dave/code/github/CS230_project/data/2013_Targa_Sixty-Six/grandsport.csv\n",
      "output: /home/dave/code/github/CS230_project/data/2013_Targa_Sixty-Six/grandsport.parquet\n"
     ]
    }
   ],
   "source": [
    "for dir_name, sub_dir_list, file_list in os.walk(data_dir):\n",
    "    \n",
    "    for file_name in file_list:\n",
    "        if not file_name.endswith('csv'):\n",
    "            continue\n",
    "        \n",
    "        file_path_input = os.path.join(dir_name, file_name)\n",
    "        file_path_output = os.path.splitext(file_path_input)[0] + '.parquet'\n",
    "        \n",
    "        print('input: %s' % file_path_input)\n",
    "        \n",
    "        df = pandas.read_csv(file_path_input, skiprows=lambda x: x in rows_to_skip)\n",
    "        table = pyarrow.Table.from_pandas(df)\n",
    "        pq.write_table(table, file_path_output)\n",
    "        \n",
    "        print('output: %s' % file_path_output)"
   ]
  },
  {
   "cell_type": "code",
   "execution_count": null,
   "metadata": {},
   "outputs": [],
   "source": []
  }
 ],
 "metadata": {
  "kernelspec": {
   "display_name": "Python 3",
   "language": "python",
   "name": "python3"
  },
  "language_info": {
   "codemirror_mode": {
    "name": "ipython",
    "version": 3
   },
   "file_extension": ".py",
   "mimetype": "text/x-python",
   "name": "python",
   "nbconvert_exporter": "python",
   "pygments_lexer": "ipython3",
   "version": "3.6.5"
  }
 },
 "nbformat": 4,
 "nbformat_minor": 2
}
