{
 "cells": [
  {
   "cell_type": "code",
   "execution_count": 1,
   "metadata": {
    "ExecuteTime": {
     "end_time": "2019-05-31T01:07:35.429774Z",
     "start_time": "2019-05-31T01:07:33.975782Z"
    }
   },
   "outputs": [
    {
     "data": {
      "text/html": [
       "        <script type=\"text/javascript\">\n",
       "        window.PlotlyConfig = {MathJaxConfig: 'local'};\n",
       "        if (window.MathJax) {MathJax.Hub.Config({SVG: {font: \"STIX-Web\"}});}\n",
       "        if (typeof require !== 'undefined') {\n",
       "        require.undef(\"plotly\");\n",
       "        requirejs.config({\n",
       "            paths: {\n",
       "                'plotly': ['https://cdn.plot.ly/plotly-latest.min']\n",
       "            }\n",
       "        });\n",
       "        require(['plotly'], function(Plotly) {\n",
       "            window._Plotly = Plotly;\n",
       "        });\n",
       "        }\n",
       "        </script>\n",
       "        "
      ]
     },
     "metadata": {},
     "output_type": "display_data"
    }
   ],
   "source": [
    "import ann_visualizer\n",
    "import copy\n",
    "import datetime\n",
    "from IPython.display import display, Image\n",
    "import logging\n",
    "import matplotlib.pyplot as plt\n",
    "import numpy\n",
    "import os\n",
    "import pandas\n",
    "import pickle\n",
    "import plotly\n",
    "import pyarrow.parquet as pq\n",
    "import random\n",
    "import six\n",
    "import tensorflow as tf\n",
    "\n",
    "import CS230\n",
    "\n",
    "plotly.offline.init_notebook_mode(connected=True)\n",
    "#tf.enable_eager_execution()"
   ]
  },
  {
   "cell_type": "markdown",
   "metadata": {},
   "source": [
    "# model 5: LSTM"
   ]
  },
  {
   "cell_type": "code",
   "execution_count": 2,
   "metadata": {},
   "outputs": [
    {
     "name": "stderr",
     "output_type": "stream",
     "text": [
      "09-17-08 | INFO | models/model-5/20190603091708\n"
     ]
    }
   ],
   "source": [
    "MODEL_NAME = 'model-5'\n",
    "EPOCHS = 200\n",
    "SEQUENCE_LENGTH = 100\n",
    "SESS_DATE_TIME = datetime.datetime.now().strftime(\"%Y%m%d%H%M%S\")\n",
    "\n",
    "MODEL_DIR = os.path.join('models', MODEL_NAME)\n",
    "SESS_DIR = os.path.join(MODEL_DIR, SESS_DATE_TIME)\n",
    "for dir_path in [MODEL_DIR, SESS_DIR]:\n",
    "    if not os.path.isdir(dir_path):\n",
    "        os.mkdir(dir_path)\n",
    "\n",
    "logger = CS230.common.get_logger()\n",
    "logger.info(SESS_DIR)"
   ]
  },
  {
   "cell_type": "markdown",
   "metadata": {},
   "source": [
    "# load and format data"
   ]
  },
  {
   "cell_type": "code",
   "execution_count": 3,
   "metadata": {},
   "outputs": [
    {
     "data": {
      "text/plain": [
       "['/home/dave/code/github/davidcasterton/CS230_project/data/2014_Targa_Sixty-Six/20140221_01_01_03_250lm.parquet',\n",
       " '/home/dave/code/github/davidcasterton/CS230_project/data/2014_Targa_Sixty-Six/20140221_01_02_03_250lm.parquet',\n",
       " '/home/dave/code/github/davidcasterton/CS230_project/data/2014_Targa_Sixty-Six/20140221_02_01_03_250lm.parquet',\n",
       " '/home/dave/code/github/davidcasterton/CS230_project/data/2014_Targa_Sixty-Six/20140221_03_01_03_250lm.parquet',\n",
       " '/home/dave/code/github/davidcasterton/CS230_project/data/2014_Targa_Sixty-Six/20140221_03_02_03_250lm.parquet',\n",
       " '/home/dave/code/github/davidcasterton/CS230_project/data/2014_Targa_Sixty-Six/20140221_03_03_03_250lm.parquet',\n",
       " '/home/dave/code/github/davidcasterton/CS230_project/data/2014_Targa_Sixty-Six/20140221_04_01_03_250lm.parquet',\n",
       " '/home/dave/code/github/davidcasterton/CS230_project/data/2014_Targa_Sixty-Six/20140222_01_01_03_250lm.parquet',\n",
       " '/home/dave/code/github/davidcasterton/CS230_project/data/2014_Targa_Sixty-Six/20140222_02_01_03_250lm.parquet']"
      ]
     },
     "execution_count": 3,
     "metadata": {},
     "output_type": "execute_result"
    }
   ],
   "source": [
    "FILE_PATHS = []\n",
    "\n",
    "for dir_path, dir_names, file_names in os.walk(CS230.data.DATA_DIR):\n",
    "    if dir_path.startswith('.'):\n",
    "        continue\n",
    "    \n",
    "    for file_name in file_names:\n",
    "        if file_name.endswith('.parquet'):\n",
    "            file_path = os.path.join(dir_path, file_name)\n",
    "            FILE_PATHS.append(file_path)\n",
    "    \n",
    "    if FILE_PATHS:\n",
    "        break  # exit after loading files from 1 directory\n",
    "\n",
    "FILE_PATHS.sort()\n",
    "FILE_PATHS"
   ]
  },
  {
   "cell_type": "code",
   "execution_count": 4,
   "metadata": {},
   "outputs": [],
   "source": [
    "COLS_X = ['axCG', 'ayCG', 'azCG', 'brake', 'chassisAccelFL', 'chassisAccelFR', 'chassisAccelRL', 'chassisAccelRR', \n",
    "          'clutch', 'engineSpeed', 'handwheelAngle', 'deflectionFL', 'deflectionFR',\n",
    "          'horizontalSpeed', 'pitchAngle', 'pitchRate', 'rollAngle', 'rollRate', 'throttle', 'vxCG', 'vyCG', 'vzCG', \n",
    "          'wheelAccelFL', 'wheelAccelFR', 'wheelAccelRL', 'wheelAccelRR', 'yawAngle', 'yawRate']  #'deflectionRL', 'deflectionRR', \n",
    "\n",
    "COLS_Y = ['axCG', 'ayCG', 'azCG', 'chassisAccelFL', 'chassisAccelFR', 'chassisAccelRL', 'chassisAccelRR',\n",
    "          'horizontalSpeed', 'pitchAngle', 'rollAngle', 'vxCG', 'vyCG', 'vzCG',\n",
    "          'wheelAccelFL', 'wheelAccelFR', 'wheelAccelRL', 'wheelAccelRR', 'yawAngle']"
   ]
  },
  {
   "cell_type": "code",
   "execution_count": 5,
   "metadata": {},
   "outputs": [],
   "source": [
    "def get_df_x(file_path, cols=COLS_X):\n",
    "    df = CS230.data.load(file_path)\n",
    "    df = CS230.data.stride_rows(df, stride=10)\n",
    "    df.dropna(axis=0, inplace=True)\n",
    "    df = df.iloc[:-1].reset_index(drop=True)\n",
    "    return df[cols]"
   ]
  },
  {
   "cell_type": "code",
   "execution_count": 6,
   "metadata": {},
   "outputs": [],
   "source": [
    "def get_df_y(file_path, cols=COLS_Y):\n",
    "    df = CS230.data.load(file_path)\n",
    "    df = CS230.data.stride_rows(df, stride=10)\n",
    "    df.dropna(axis=0, inplace=True)\n",
    "    df = df.iloc[1:].reset_index(drop=True)\n",
    "    return df[cols]"
   ]
  },
  {
   "cell_type": "code",
   "execution_count": 7,
   "metadata": {},
   "outputs": [],
   "source": [
    "def get_tensor_x(df):\n",
    "    x = numpy.reshape(df.values, (df.shape[0], 1, df.shape[1]))\n",
    "    x = tf.cast(x, tf.float64)\n",
    "    return x"
   ]
  },
  {
   "cell_type": "code",
   "execution_count": 8,
   "metadata": {},
   "outputs": [],
   "source": [
    "def get_tensor_y(df):\n",
    "    y = tf.cast(df.values, tf.float64)\n",
    "    return y"
   ]
  },
  {
   "cell_type": "code",
   "execution_count": 9,
   "metadata": {},
   "outputs": [],
   "source": [
    "DATA = {}\n",
    "\n",
    "for name, file_path in [('train', FILE_PATHS[0]), ('dev', FILE_PATHS[1])]:\n",
    "    DATA[name] = {'df': {}, 'tensor': {}}\n",
    "    DATA[name]['df']['x'] = get_df_x(file_path)\n",
    "    DATA[name]['df']['y'] = get_df_y(file_path)\n",
    "    #DATA[name]['tensor']['x'] = get_tensor_x(DATA[name]['df']['x'])\n",
    "    #DATA[name]['tensor']['y'] = get_tensor_y(DATA[name]['df']['y'])\n",
    "    \n",
    "    DATA[name]['generator'] = tf.keras.preprocessing.sequence.TimeseriesGenerator(\n",
    "                                DATA[name]['df']['x'].values,\n",
    "                                DATA[name]['df']['y'].values,\n",
    "                                length=SEQUENCE_LENGTH, sampling_rate=1  #, shuffle=True\n",
    "                            )\n",
    "    DATA[name]['sequence_length'] = SEQUENCE_LENGTH\n",
    "    \n",
    "    DATA[name]['m'] = DATA[name]['df']['x'].shape[0]\n",
    "    DATA[name]['n_x'] = DATA[name]['df']['x'].shape[1]\n",
    "    DATA[name]['n_y'] = DATA[name]['df']['y'].shape[1]"
   ]
  },
  {
   "cell_type": "markdown",
   "metadata": {},
   "source": [
    "# explore input data"
   ]
  },
  {
   "cell_type": "code",
   "execution_count": 10,
   "metadata": {},
   "outputs": [
    {
     "name": "stdout",
     "output_type": "stream",
     "text": [
      "train x (49095, 28)\n"
     ]
    },
    {
     "data": {
      "text/html": [
       "<div>\n",
       "<style scoped>\n",
       "    .dataframe tbody tr th:only-of-type {\n",
       "        vertical-align: middle;\n",
       "    }\n",
       "\n",
       "    .dataframe tbody tr th {\n",
       "        vertical-align: top;\n",
       "    }\n",
       "\n",
       "    .dataframe thead th {\n",
       "        text-align: right;\n",
       "    }\n",
       "</style>\n",
       "<table border=\"1\" class=\"dataframe\">\n",
       "  <thead>\n",
       "    <tr style=\"text-align: right;\">\n",
       "      <th></th>\n",
       "      <th>axCG</th>\n",
       "      <th>ayCG</th>\n",
       "      <th>azCG</th>\n",
       "      <th>brake</th>\n",
       "      <th>chassisAccelFL</th>\n",
       "      <th>chassisAccelFR</th>\n",
       "      <th>chassisAccelRL</th>\n",
       "      <th>chassisAccelRR</th>\n",
       "      <th>clutch</th>\n",
       "      <th>engineSpeed</th>\n",
       "      <th>...</th>\n",
       "      <th>throttle</th>\n",
       "      <th>vxCG</th>\n",
       "      <th>vyCG</th>\n",
       "      <th>vzCG</th>\n",
       "      <th>wheelAccelFL</th>\n",
       "      <th>wheelAccelFR</th>\n",
       "      <th>wheelAccelRL</th>\n",
       "      <th>wheelAccelRR</th>\n",
       "      <th>yawAngle</th>\n",
       "      <th>yawRate</th>\n",
       "    </tr>\n",
       "  </thead>\n",
       "  <tbody>\n",
       "    <tr>\n",
       "      <th>0</th>\n",
       "      <td>0.94</td>\n",
       "      <td>0.23</td>\n",
       "      <td>7.78</td>\n",
       "      <td>0.0</td>\n",
       "      <td>9.300</td>\n",
       "      <td>9.398</td>\n",
       "      <td>7.564</td>\n",
       "      <td>10.094</td>\n",
       "      <td>0.0</td>\n",
       "      <td>1890</td>\n",
       "      <td>...</td>\n",
       "      <td>11.8</td>\n",
       "      <td>6.12</td>\n",
       "      <td>-0.27</td>\n",
       "      <td>-0.22</td>\n",
       "      <td>8.63</td>\n",
       "      <td>10.30</td>\n",
       "      <td>10.99</td>\n",
       "      <td>7.06</td>\n",
       "      <td>-14.01</td>\n",
       "      <td>5.81</td>\n",
       "    </tr>\n",
       "    <tr>\n",
       "      <th>1</th>\n",
       "      <td>0.94</td>\n",
       "      <td>0.23</td>\n",
       "      <td>7.78</td>\n",
       "      <td>0.0</td>\n",
       "      <td>8.545</td>\n",
       "      <td>10.094</td>\n",
       "      <td>9.398</td>\n",
       "      <td>9.781</td>\n",
       "      <td>0.0</td>\n",
       "      <td>1890</td>\n",
       "      <td>...</td>\n",
       "      <td>11.8</td>\n",
       "      <td>6.13</td>\n",
       "      <td>-0.28</td>\n",
       "      <td>-0.24</td>\n",
       "      <td>8.73</td>\n",
       "      <td>9.52</td>\n",
       "      <td>12.07</td>\n",
       "      <td>7.85</td>\n",
       "      <td>-13.96</td>\n",
       "      <td>5.81</td>\n",
       "    </tr>\n",
       "    <tr>\n",
       "      <th>2</th>\n",
       "      <td>0.94</td>\n",
       "      <td>0.23</td>\n",
       "      <td>7.78</td>\n",
       "      <td>0.0</td>\n",
       "      <td>9.349</td>\n",
       "      <td>9.663</td>\n",
       "      <td>9.594</td>\n",
       "      <td>10.889</td>\n",
       "      <td>0.0</td>\n",
       "      <td>1914</td>\n",
       "      <td>...</td>\n",
       "      <td>11.8</td>\n",
       "      <td>6.13</td>\n",
       "      <td>-0.28</td>\n",
       "      <td>-0.26</td>\n",
       "      <td>7.75</td>\n",
       "      <td>10.59</td>\n",
       "      <td>10.20</td>\n",
       "      <td>9.12</td>\n",
       "      <td>-13.90</td>\n",
       "      <td>5.81</td>\n",
       "    </tr>\n",
       "  </tbody>\n",
       "</table>\n",
       "<p>3 rows × 28 columns</p>\n",
       "</div>"
      ],
      "text/plain": [
       "   axCG  ayCG  azCG  brake  chassisAccelFL  chassisAccelFR  chassisAccelRL  \\\n",
       "0  0.94  0.23  7.78    0.0           9.300           9.398           7.564   \n",
       "1  0.94  0.23  7.78    0.0           8.545          10.094           9.398   \n",
       "2  0.94  0.23  7.78    0.0           9.349           9.663           9.594   \n",
       "\n",
       "   chassisAccelRR  clutch  engineSpeed  ...  throttle  vxCG  vyCG  vzCG  \\\n",
       "0          10.094     0.0         1890  ...      11.8  6.12 -0.27 -0.22   \n",
       "1           9.781     0.0         1890  ...      11.8  6.13 -0.28 -0.24   \n",
       "2          10.889     0.0         1914  ...      11.8  6.13 -0.28 -0.26   \n",
       "\n",
       "   wheelAccelFL  wheelAccelFR  wheelAccelRL  wheelAccelRR  yawAngle  yawRate  \n",
       "0          8.63         10.30         10.99          7.06    -14.01     5.81  \n",
       "1          8.73          9.52         12.07          7.85    -13.96     5.81  \n",
       "2          7.75         10.59         10.20          9.12    -13.90     5.81  \n",
       "\n",
       "[3 rows x 28 columns]"
      ]
     },
     "metadata": {},
     "output_type": "display_data"
    },
    {
     "name": "stdout",
     "output_type": "stream",
     "text": [
      "train y (49095, 18)\n"
     ]
    },
    {
     "data": {
      "text/html": [
       "<div>\n",
       "<style scoped>\n",
       "    .dataframe tbody tr th:only-of-type {\n",
       "        vertical-align: middle;\n",
       "    }\n",
       "\n",
       "    .dataframe tbody tr th {\n",
       "        vertical-align: top;\n",
       "    }\n",
       "\n",
       "    .dataframe thead th {\n",
       "        text-align: right;\n",
       "    }\n",
       "</style>\n",
       "<table border=\"1\" class=\"dataframe\">\n",
       "  <thead>\n",
       "    <tr style=\"text-align: right;\">\n",
       "      <th></th>\n",
       "      <th>axCG</th>\n",
       "      <th>ayCG</th>\n",
       "      <th>azCG</th>\n",
       "      <th>chassisAccelFL</th>\n",
       "      <th>chassisAccelFR</th>\n",
       "      <th>chassisAccelRL</th>\n",
       "      <th>chassisAccelRR</th>\n",
       "      <th>horizontalSpeed</th>\n",
       "      <th>pitchAngle</th>\n",
       "      <th>rollAngle</th>\n",
       "      <th>vxCG</th>\n",
       "      <th>vyCG</th>\n",
       "      <th>vzCG</th>\n",
       "      <th>wheelAccelFL</th>\n",
       "      <th>wheelAccelFR</th>\n",
       "      <th>wheelAccelRL</th>\n",
       "      <th>wheelAccelRR</th>\n",
       "      <th>yawAngle</th>\n",
       "    </tr>\n",
       "  </thead>\n",
       "  <tbody>\n",
       "    <tr>\n",
       "      <th>0</th>\n",
       "      <td>0.94</td>\n",
       "      <td>0.23</td>\n",
       "      <td>7.78</td>\n",
       "      <td>8.545</td>\n",
       "      <td>10.094</td>\n",
       "      <td>9.398</td>\n",
       "      <td>9.781</td>\n",
       "      <td>6.14</td>\n",
       "      <td>-2.93</td>\n",
       "      <td>1.74</td>\n",
       "      <td>6.13</td>\n",
       "      <td>-0.28</td>\n",
       "      <td>-0.24</td>\n",
       "      <td>8.73</td>\n",
       "      <td>9.52</td>\n",
       "      <td>12.07</td>\n",
       "      <td>7.85</td>\n",
       "      <td>-13.96</td>\n",
       "    </tr>\n",
       "    <tr>\n",
       "      <th>1</th>\n",
       "      <td>0.94</td>\n",
       "      <td>0.23</td>\n",
       "      <td>7.78</td>\n",
       "      <td>9.349</td>\n",
       "      <td>9.663</td>\n",
       "      <td>9.594</td>\n",
       "      <td>10.889</td>\n",
       "      <td>6.14</td>\n",
       "      <td>-2.94</td>\n",
       "      <td>1.70</td>\n",
       "      <td>6.13</td>\n",
       "      <td>-0.28</td>\n",
       "      <td>-0.26</td>\n",
       "      <td>7.75</td>\n",
       "      <td>10.59</td>\n",
       "      <td>10.20</td>\n",
       "      <td>9.12</td>\n",
       "      <td>-13.90</td>\n",
       "    </tr>\n",
       "    <tr>\n",
       "      <th>2</th>\n",
       "      <td>0.19</td>\n",
       "      <td>1.52</td>\n",
       "      <td>10.73</td>\n",
       "      <td>9.300</td>\n",
       "      <td>9.320</td>\n",
       "      <td>8.584</td>\n",
       "      <td>10.860</td>\n",
       "      <td>6.13</td>\n",
       "      <td>-2.89</td>\n",
       "      <td>1.89</td>\n",
       "      <td>6.12</td>\n",
       "      <td>-0.26</td>\n",
       "      <td>-0.24</td>\n",
       "      <td>8.63</td>\n",
       "      <td>11.38</td>\n",
       "      <td>9.81</td>\n",
       "      <td>9.71</td>\n",
       "      <td>-13.91</td>\n",
       "    </tr>\n",
       "  </tbody>\n",
       "</table>\n",
       "</div>"
      ],
      "text/plain": [
       "   axCG  ayCG   azCG  chassisAccelFL  chassisAccelFR  chassisAccelRL  \\\n",
       "0  0.94  0.23   7.78           8.545          10.094           9.398   \n",
       "1  0.94  0.23   7.78           9.349           9.663           9.594   \n",
       "2  0.19  1.52  10.73           9.300           9.320           8.584   \n",
       "\n",
       "   chassisAccelRR  horizontalSpeed  pitchAngle  rollAngle  vxCG  vyCG  vzCG  \\\n",
       "0           9.781             6.14       -2.93       1.74  6.13 -0.28 -0.24   \n",
       "1          10.889             6.14       -2.94       1.70  6.13 -0.28 -0.26   \n",
       "2          10.860             6.13       -2.89       1.89  6.12 -0.26 -0.24   \n",
       "\n",
       "   wheelAccelFL  wheelAccelFR  wheelAccelRL  wheelAccelRR  yawAngle  \n",
       "0          8.73          9.52         12.07          7.85    -13.96  \n",
       "1          7.75         10.59         10.20          9.12    -13.90  \n",
       "2          8.63         11.38          9.81          9.71    -13.91  "
      ]
     },
     "metadata": {},
     "output_type": "display_data"
    },
    {
     "name": "stdout",
     "output_type": "stream",
     "text": [
      "train m: 49095\n",
      "train n_x: 28\n",
      "train n_y: 18\n",
      "\n",
      "\n",
      "dev x (79099, 28)\n"
     ]
    },
    {
     "data": {
      "text/html": [
       "<div>\n",
       "<style scoped>\n",
       "    .dataframe tbody tr th:only-of-type {\n",
       "        vertical-align: middle;\n",
       "    }\n",
       "\n",
       "    .dataframe tbody tr th {\n",
       "        vertical-align: top;\n",
       "    }\n",
       "\n",
       "    .dataframe thead th {\n",
       "        text-align: right;\n",
       "    }\n",
       "</style>\n",
       "<table border=\"1\" class=\"dataframe\">\n",
       "  <thead>\n",
       "    <tr style=\"text-align: right;\">\n",
       "      <th></th>\n",
       "      <th>axCG</th>\n",
       "      <th>ayCG</th>\n",
       "      <th>azCG</th>\n",
       "      <th>brake</th>\n",
       "      <th>chassisAccelFL</th>\n",
       "      <th>chassisAccelFR</th>\n",
       "      <th>chassisAccelRL</th>\n",
       "      <th>chassisAccelRR</th>\n",
       "      <th>clutch</th>\n",
       "      <th>engineSpeed</th>\n",
       "      <th>...</th>\n",
       "      <th>throttle</th>\n",
       "      <th>vxCG</th>\n",
       "      <th>vyCG</th>\n",
       "      <th>vzCG</th>\n",
       "      <th>wheelAccelFL</th>\n",
       "      <th>wheelAccelFR</th>\n",
       "      <th>wheelAccelRL</th>\n",
       "      <th>wheelAccelRR</th>\n",
       "      <th>yawAngle</th>\n",
       "      <th>yawRate</th>\n",
       "    </tr>\n",
       "  </thead>\n",
       "  <tbody>\n",
       "    <tr>\n",
       "      <th>0</th>\n",
       "      <td>0.36</td>\n",
       "      <td>-0.56</td>\n",
       "      <td>9.80</td>\n",
       "      <td>0.0</td>\n",
       "      <td>9.83</td>\n",
       "      <td>9.928</td>\n",
       "      <td>9.163</td>\n",
       "      <td>9.182</td>\n",
       "      <td>0.0</td>\n",
       "      <td>0</td>\n",
       "      <td>...</td>\n",
       "      <td>0.2</td>\n",
       "      <td>-0.01</td>\n",
       "      <td>-0.02</td>\n",
       "      <td>0.02</td>\n",
       "      <td>10.2</td>\n",
       "      <td>9.91</td>\n",
       "      <td>8.14</td>\n",
       "      <td>7.85</td>\n",
       "      <td>-4.31</td>\n",
       "      <td>0.56</td>\n",
       "    </tr>\n",
       "    <tr>\n",
       "      <th>1</th>\n",
       "      <td>-0.24</td>\n",
       "      <td>0.66</td>\n",
       "      <td>9.83</td>\n",
       "      <td>0.0</td>\n",
       "      <td>9.81</td>\n",
       "      <td>9.928</td>\n",
       "      <td>9.163</td>\n",
       "      <td>9.153</td>\n",
       "      <td>0.0</td>\n",
       "      <td>0</td>\n",
       "      <td>...</td>\n",
       "      <td>0.2</td>\n",
       "      <td>-0.01</td>\n",
       "      <td>-0.01</td>\n",
       "      <td>0.02</td>\n",
       "      <td>10.4</td>\n",
       "      <td>10.10</td>\n",
       "      <td>8.14</td>\n",
       "      <td>8.04</td>\n",
       "      <td>-4.31</td>\n",
       "      <td>0.06</td>\n",
       "    </tr>\n",
       "    <tr>\n",
       "      <th>2</th>\n",
       "      <td>-0.19</td>\n",
       "      <td>0.54</td>\n",
       "      <td>9.56</td>\n",
       "      <td>0.0</td>\n",
       "      <td>9.83</td>\n",
       "      <td>9.898</td>\n",
       "      <td>9.182</td>\n",
       "      <td>9.133</td>\n",
       "      <td>0.0</td>\n",
       "      <td>0</td>\n",
       "      <td>...</td>\n",
       "      <td>0.2</td>\n",
       "      <td>-0.01</td>\n",
       "      <td>-0.01</td>\n",
       "      <td>0.01</td>\n",
       "      <td>10.5</td>\n",
       "      <td>10.10</td>\n",
       "      <td>8.44</td>\n",
       "      <td>7.85</td>\n",
       "      <td>-4.30</td>\n",
       "      <td>-0.32</td>\n",
       "    </tr>\n",
       "  </tbody>\n",
       "</table>\n",
       "<p>3 rows × 28 columns</p>\n",
       "</div>"
      ],
      "text/plain": [
       "   axCG  ayCG  azCG  brake  chassisAccelFL  chassisAccelFR  chassisAccelRL  \\\n",
       "0  0.36 -0.56  9.80    0.0            9.83           9.928           9.163   \n",
       "1 -0.24  0.66  9.83    0.0            9.81           9.928           9.163   \n",
       "2 -0.19  0.54  9.56    0.0            9.83           9.898           9.182   \n",
       "\n",
       "   chassisAccelRR  clutch  engineSpeed  ...  throttle  vxCG  vyCG  vzCG  \\\n",
       "0           9.182     0.0            0  ...       0.2 -0.01 -0.02  0.02   \n",
       "1           9.153     0.0            0  ...       0.2 -0.01 -0.01  0.02   \n",
       "2           9.133     0.0            0  ...       0.2 -0.01 -0.01  0.01   \n",
       "\n",
       "   wheelAccelFL  wheelAccelFR  wheelAccelRL  wheelAccelRR  yawAngle  yawRate  \n",
       "0          10.2          9.91          8.14          7.85     -4.31     0.56  \n",
       "1          10.4         10.10          8.14          8.04     -4.31     0.06  \n",
       "2          10.5         10.10          8.44          7.85     -4.30    -0.32  \n",
       "\n",
       "[3 rows x 28 columns]"
      ]
     },
     "metadata": {},
     "output_type": "display_data"
    },
    {
     "name": "stdout",
     "output_type": "stream",
     "text": [
      "dev y (79099, 18)\n"
     ]
    },
    {
     "data": {
      "text/html": [
       "<div>\n",
       "<style scoped>\n",
       "    .dataframe tbody tr th:only-of-type {\n",
       "        vertical-align: middle;\n",
       "    }\n",
       "\n",
       "    .dataframe tbody tr th {\n",
       "        vertical-align: top;\n",
       "    }\n",
       "\n",
       "    .dataframe thead th {\n",
       "        text-align: right;\n",
       "    }\n",
       "</style>\n",
       "<table border=\"1\" class=\"dataframe\">\n",
       "  <thead>\n",
       "    <tr style=\"text-align: right;\">\n",
       "      <th></th>\n",
       "      <th>axCG</th>\n",
       "      <th>ayCG</th>\n",
       "      <th>azCG</th>\n",
       "      <th>chassisAccelFL</th>\n",
       "      <th>chassisAccelFR</th>\n",
       "      <th>chassisAccelRL</th>\n",
       "      <th>chassisAccelRR</th>\n",
       "      <th>horizontalSpeed</th>\n",
       "      <th>pitchAngle</th>\n",
       "      <th>rollAngle</th>\n",
       "      <th>vxCG</th>\n",
       "      <th>vyCG</th>\n",
       "      <th>vzCG</th>\n",
       "      <th>wheelAccelFL</th>\n",
       "      <th>wheelAccelFR</th>\n",
       "      <th>wheelAccelRL</th>\n",
       "      <th>wheelAccelRR</th>\n",
       "      <th>yawAngle</th>\n",
       "    </tr>\n",
       "  </thead>\n",
       "  <tbody>\n",
       "    <tr>\n",
       "      <th>0</th>\n",
       "      <td>-0.24</td>\n",
       "      <td>0.66</td>\n",
       "      <td>9.83</td>\n",
       "      <td>9.81</td>\n",
       "      <td>9.928</td>\n",
       "      <td>9.163</td>\n",
       "      <td>9.153</td>\n",
       "      <td>0.01</td>\n",
       "      <td>-0.03</td>\n",
       "      <td>1.03</td>\n",
       "      <td>-0.01</td>\n",
       "      <td>-0.01</td>\n",
       "      <td>0.02</td>\n",
       "      <td>10.4</td>\n",
       "      <td>10.10</td>\n",
       "      <td>8.14</td>\n",
       "      <td>8.04</td>\n",
       "      <td>-4.31</td>\n",
       "    </tr>\n",
       "    <tr>\n",
       "      <th>1</th>\n",
       "      <td>-0.19</td>\n",
       "      <td>0.54</td>\n",
       "      <td>9.56</td>\n",
       "      <td>9.83</td>\n",
       "      <td>9.898</td>\n",
       "      <td>9.182</td>\n",
       "      <td>9.133</td>\n",
       "      <td>0.01</td>\n",
       "      <td>-0.03</td>\n",
       "      <td>1.03</td>\n",
       "      <td>-0.01</td>\n",
       "      <td>-0.01</td>\n",
       "      <td>0.01</td>\n",
       "      <td>10.5</td>\n",
       "      <td>10.10</td>\n",
       "      <td>8.44</td>\n",
       "      <td>7.85</td>\n",
       "      <td>-4.30</td>\n",
       "    </tr>\n",
       "    <tr>\n",
       "      <th>2</th>\n",
       "      <td>0.05</td>\n",
       "      <td>0.08</td>\n",
       "      <td>9.97</td>\n",
       "      <td>9.83</td>\n",
       "      <td>9.898</td>\n",
       "      <td>9.231</td>\n",
       "      <td>9.182</td>\n",
       "      <td>0.01</td>\n",
       "      <td>-0.03</td>\n",
       "      <td>1.03</td>\n",
       "      <td>-0.01</td>\n",
       "      <td>-0.01</td>\n",
       "      <td>0.02</td>\n",
       "      <td>10.3</td>\n",
       "      <td>9.71</td>\n",
       "      <td>8.24</td>\n",
       "      <td>8.14</td>\n",
       "      <td>-4.30</td>\n",
       "    </tr>\n",
       "  </tbody>\n",
       "</table>\n",
       "</div>"
      ],
      "text/plain": [
       "   axCG  ayCG  azCG  chassisAccelFL  chassisAccelFR  chassisAccelRL  \\\n",
       "0 -0.24  0.66  9.83            9.81           9.928           9.163   \n",
       "1 -0.19  0.54  9.56            9.83           9.898           9.182   \n",
       "2  0.05  0.08  9.97            9.83           9.898           9.231   \n",
       "\n",
       "   chassisAccelRR  horizontalSpeed  pitchAngle  rollAngle  vxCG  vyCG  vzCG  \\\n",
       "0           9.153             0.01       -0.03       1.03 -0.01 -0.01  0.02   \n",
       "1           9.133             0.01       -0.03       1.03 -0.01 -0.01  0.01   \n",
       "2           9.182             0.01       -0.03       1.03 -0.01 -0.01  0.02   \n",
       "\n",
       "   wheelAccelFL  wheelAccelFR  wheelAccelRL  wheelAccelRR  yawAngle  \n",
       "0          10.4         10.10          8.14          8.04     -4.31  \n",
       "1          10.5         10.10          8.44          7.85     -4.30  \n",
       "2          10.3          9.71          8.24          8.14     -4.30  "
      ]
     },
     "metadata": {},
     "output_type": "display_data"
    },
    {
     "name": "stdout",
     "output_type": "stream",
     "text": [
      "dev m: 79099\n",
      "dev n_x: 28\n",
      "dev n_y: 18\n",
      "\n",
      "\n"
     ]
    }
   ],
   "source": [
    "for set_name, _dict in six.iteritems(DATA):\n",
    "    for name, df in six.iteritems(_dict['df']):\n",
    "        print('%s %s %s' % (set_name, name, df.shape))\n",
    "        display(df.head(3))\n",
    "    print('%s m: %s' % (set_name, _dict['m']))\n",
    "    print('%s n_x: %s' % (set_name, _dict['n_x']))\n",
    "    print('%s n_y: %s' % (set_name, _dict['n_y']))\n",
    "    print('\\n')"
   ]
  },
  {
   "cell_type": "markdown",
   "metadata": {},
   "source": [
    "# build model"
   ]
  },
  {
   "cell_type": "code",
   "execution_count": 11,
   "metadata": {},
   "outputs": [
    {
     "name": "stdout",
     "output_type": "stream",
     "text": [
      "WARNING:tensorflow:From /home/dave/venv/py3.6/lib/python3.6/site-packages/tensorflow/python/ops/resource_variable_ops.py:435: colocate_with (from tensorflow.python.framework.ops) is deprecated and will be removed in a future version.\n",
      "Instructions for updating:\n",
      "Colocations handled automatically by placer.\n",
      "WARNING:tensorflow:From /home/dave/venv/py3.6/lib/python3.6/site-packages/tensorflow/python/keras/backend.py:4010: calling dropout (from tensorflow.python.ops.nn_ops) with keep_prob is deprecated and will be removed in a future version.\n",
      "Instructions for updating:\n",
      "Please use `rate` instead of `keep_prob`. Rate should be set to `rate = 1 - keep_prob`.\n",
      "_________________________________________________________________\n",
      "Layer (type)                 Output Shape              Param #   \n",
      "=================================================================\n",
      "lstm (LSTM)                  (None, 100, 28)           6384      \n",
      "_________________________________________________________________\n",
      "time_distributed (TimeDistri (None, 100, 28)           812       \n",
      "_________________________________________________________________\n",
      "dense_1 (Dense)              (None, 100, 18)           522       \n",
      "=================================================================\n",
      "Total params: 7,718\n",
      "Trainable params: 7,718\n",
      "Non-trainable params: 0\n",
      "_________________________________________________________________\n"
     ]
    },
    {
     "data": {
      "image/png": "[encoded data removed]",
      "text/plain": [
       "<IPython.core.display.Image object>"
      ]
     },
     "metadata": {},
     "output_type": "display_data"
    },
    {
     "name": "stdout",
     "output_type": "stream",
     "text": [
      "WARNING:tensorflow:From /home/dave/venv/py3.6/lib/python3.6/site-packages/tensorflow/python/keras/utils/losses_utils.py:170: to_float (from tensorflow.python.ops.math_ops) is deprecated and will be removed in a future version.\n",
      "Instructions for updating:\n",
      "Use tf.cast instead.\n"
     ]
    }
   ],
   "source": [
    "m = DATA['train']['m']\n",
    "n_x = DATA['train']['n_x']\n",
    "n_y = DATA['train']['n_y']\n",
    "sequence_length = DATA['train']['sequence_length']\n",
    "\n",
    "# build model\n",
    "model = tf.keras.Sequential()\n",
    "\n",
    "model.add(tf.keras.layers.LSTM(n_x, return_sequences=True, input_shape=(sequence_length, n_x), dropout=0.1, recurrent_dropout=0.1))\n",
    "\n",
    "#model.add(tf.keras.layers.BatchNormalization())\n",
    "#model.add(tf.keras.layers.Dropout(0.1))\n",
    "model.add(tf.keras.layers.TimeDistributed(tf.keras.layers.Dense(n_x, activation='sigmoid')))\n",
    "\n",
    "#model.add(tf.keras.layers.BatchNormalization())\n",
    "#model.add(tf.keras.layers.LSTM(n_x, dropout=0.1, recurrent_dropout=0.1))\n",
    "\n",
    "#model.add(tf.keras.layers.BatchNormalization())\n",
    "#model.add(tf.keras.layers.Dropout(0.1))\n",
    "model.add(tf.keras.layers.Dense(n_y, activation='linear'))\n",
    "\n",
    "# summarize model\n",
    "model.summary()\n",
    "\n",
    "# visualize model\n",
    "file_path = os.path.join(SESS_DIR, 'architecture.png')\n",
    "tf.keras.utils.plot_model(model, file_path, show_shapes=True, show_layer_names=True)\n",
    "display(Image(filename=file_path))\n",
    "\n",
    "# set optimizer\n",
    "#optimizer = tf.train.AdamOptimizer(0.01)\n",
    "optimizer = tf.keras.optimizers.Adam(0.01, decay=1e-4)\n",
    "#optimizer = tf.keras.optimizers.SGD(lr=0.03, decay=1e-6, momentum=0.9, nesterov=True)\n",
    "\n",
    "# compile model\n",
    "model.compile(\n",
    "    optimizer=optimizer, \n",
    "    loss='mean_squared_error', \n",
    "    metrics=['mean_absolute_error']\n",
    ")"
   ]
  },
  {
   "cell_type": "markdown",
   "metadata": {},
   "source": [
    "# set callbacks"
   ]
  },
  {
   "cell_type": "code",
   "execution_count": 12,
   "metadata": {},
   "outputs": [],
   "source": [
    "file_path = os.path.join(SESS_DIR, 'model_epoch{epoch}.h5')\n",
    "\n",
    "checkpoint_callback = tf.keras.callbacks.ModelCheckpoint(file_path, monitor='loss', verbose=1, \n",
    "                                                         save_weights_only=False, save_best_only=True, mode='min')\n",
    "\n",
    "stop_callback = tf.keras.callbacks.EarlyStopping(monitor='loss', min_delta=1e-2, patience=3, verbose=1)\n",
    "\n",
    "callbacks = [checkpoint_callback, stop_callback]"
   ]
  },
  {
   "cell_type": "markdown",
   "metadata": {},
   "source": [
    "# (optional) load prior checkpoint"
   ]
  },
  {
   "cell_type": "code",
   "execution_count": 13,
   "metadata": {},
   "outputs": [],
   "source": [
    "#file_path = os.path.join(MODEL_DIR, 'model_epoch27.h5')\n",
    "#model.load_weights(file_path)"
   ]
  },
  {
   "cell_type": "markdown",
   "metadata": {},
   "source": [
    "# train model on training set"
   ]
  },
  {
   "cell_type": "code",
   "execution_count": 14,
   "metadata": {},
   "outputs": [
    {
     "name": "stdout",
     "output_type": "stream",
     "text": [
      "WARNING:tensorflow:From /home/dave/venv/py3.6/lib/python3.6/site-packages/tensorflow/python/ops/math_ops.py:3066: to_int32 (from tensorflow.python.ops.math_ops) is deprecated and will be removed in a future version.\n",
      "Instructions for updating:\n",
      "Use tf.cast instead.\n",
      "Epoch 1/200\n"
     ]
    },
    {
     "ename": "InternalError",
     "evalue": "Dst tensor is not initialized.\n\t [[{{node training/Adam/gradients/lstm/while/clip_by_value_2/Minimum_grad/LessEqual/StackPopV2}}]]\n\t [[{{node loss/mul}}]]",
     "output_type": "error",
     "traceback": [
      "\u001b[0;31m---------------------------------------------------------------------------\u001b[0m",
      "\u001b[0;31mInternalError\u001b[0m                             Traceback (most recent call last)",
      "\u001b[0;32m<ipython-input-14-8e4e441a7735>\u001b[0m in \u001b[0;36m<module>\u001b[0;34m\u001b[0m\n\u001b[1;32m      3\u001b[0m     \u001b[0mepochs\u001b[0m\u001b[0;34m=\u001b[0m\u001b[0mEPOCHS\u001b[0m\u001b[0;34m,\u001b[0m\u001b[0;34m\u001b[0m\u001b[0;34m\u001b[0m\u001b[0m\n\u001b[1;32m      4\u001b[0m     \u001b[0msteps_per_epoch\u001b[0m\u001b[0;34m=\u001b[0m\u001b[0mlen\u001b[0m\u001b[0;34m(\u001b[0m\u001b[0mDATA\u001b[0m\u001b[0;34m[\u001b[0m\u001b[0;34m'train'\u001b[0m\u001b[0;34m]\u001b[0m\u001b[0;34m[\u001b[0m\u001b[0;34m'generator'\u001b[0m\u001b[0;34m]\u001b[0m\u001b[0;34m)\u001b[0m\u001b[0;34m,\u001b[0m\u001b[0;34m\u001b[0m\u001b[0;34m\u001b[0m\u001b[0m\n\u001b[0;32m----> 5\u001b[0;31m     \u001b[0mcallbacks\u001b[0m\u001b[0;34m=\u001b[0m\u001b[0mcallbacks\u001b[0m\u001b[0;34m\u001b[0m\u001b[0;34m\u001b[0m\u001b[0m\n\u001b[0m\u001b[1;32m      6\u001b[0m )\n",
      "\u001b[0;32m~/venv/py3.6/lib/python3.6/site-packages/tensorflow/python/keras/engine/training.py\u001b[0m in \u001b[0;36mfit_generator\u001b[0;34m(self, generator, steps_per_epoch, epochs, verbose, callbacks, validation_data, validation_steps, class_weight, max_queue_size, workers, use_multiprocessing, shuffle, initial_epoch)\u001b[0m\n\u001b[1;32m   1424\u001b[0m         \u001b[0muse_multiprocessing\u001b[0m\u001b[0;34m=\u001b[0m\u001b[0muse_multiprocessing\u001b[0m\u001b[0;34m,\u001b[0m\u001b[0;34m\u001b[0m\u001b[0;34m\u001b[0m\u001b[0m\n\u001b[1;32m   1425\u001b[0m         \u001b[0mshuffle\u001b[0m\u001b[0;34m=\u001b[0m\u001b[0mshuffle\u001b[0m\u001b[0;34m,\u001b[0m\u001b[0;34m\u001b[0m\u001b[0;34m\u001b[0m\u001b[0m\n\u001b[0;32m-> 1426\u001b[0;31m         initial_epoch=initial_epoch)\n\u001b[0m\u001b[1;32m   1427\u001b[0m \u001b[0;34m\u001b[0m\u001b[0m\n\u001b[1;32m   1428\u001b[0m   def evaluate_generator(self,\n",
      "\u001b[0;32m~/venv/py3.6/lib/python3.6/site-packages/tensorflow/python/keras/engine/training_generator.py\u001b[0m in \u001b[0;36mmodel_iteration\u001b[0;34m(model, data, steps_per_epoch, epochs, verbose, callbacks, validation_data, validation_steps, class_weight, max_queue_size, workers, use_multiprocessing, shuffle, initial_epoch, mode, batch_size, **kwargs)\u001b[0m\n\u001b[1;32m    189\u001b[0m       \u001b[0mprogbar\u001b[0m\u001b[0;34m.\u001b[0m\u001b[0mon_batch_begin\u001b[0m\u001b[0;34m(\u001b[0m\u001b[0mstep\u001b[0m\u001b[0;34m,\u001b[0m \u001b[0mbatch_logs\u001b[0m\u001b[0;34m)\u001b[0m\u001b[0;34m\u001b[0m\u001b[0;34m\u001b[0m\u001b[0m\n\u001b[1;32m    190\u001b[0m \u001b[0;34m\u001b[0m\u001b[0m\n\u001b[0;32m--> 191\u001b[0;31m       \u001b[0mbatch_outs\u001b[0m \u001b[0;34m=\u001b[0m \u001b[0mbatch_function\u001b[0m\u001b[0;34m(\u001b[0m\u001b[0;34m*\u001b[0m\u001b[0mbatch_data\u001b[0m\u001b[0;34m)\u001b[0m\u001b[0;34m\u001b[0m\u001b[0;34m\u001b[0m\u001b[0m\n\u001b[0m\u001b[1;32m    192\u001b[0m       \u001b[0;32mif\u001b[0m \u001b[0;32mnot\u001b[0m \u001b[0misinstance\u001b[0m\u001b[0;34m(\u001b[0m\u001b[0mbatch_outs\u001b[0m\u001b[0;34m,\u001b[0m \u001b[0mlist\u001b[0m\u001b[0;34m)\u001b[0m\u001b[0;34m:\u001b[0m\u001b[0;34m\u001b[0m\u001b[0;34m\u001b[0m\u001b[0m\n\u001b[1;32m    193\u001b[0m         \u001b[0mbatch_outs\u001b[0m \u001b[0;34m=\u001b[0m \u001b[0;34m[\u001b[0m\u001b[0mbatch_outs\u001b[0m\u001b[0;34m]\u001b[0m\u001b[0;34m\u001b[0m\u001b[0;34m\u001b[0m\u001b[0m\n",
      "\u001b[0;32m~/venv/py3.6/lib/python3.6/site-packages/tensorflow/python/keras/engine/training.py\u001b[0m in \u001b[0;36mtrain_on_batch\u001b[0;34m(self, x, y, sample_weight, class_weight, reset_metrics)\u001b[0m\n\u001b[1;32m   1189\u001b[0m       \u001b[0;32melse\u001b[0m\u001b[0;34m:\u001b[0m\u001b[0;34m\u001b[0m\u001b[0;34m\u001b[0m\u001b[0m\n\u001b[1;32m   1190\u001b[0m         \u001b[0mself\u001b[0m\u001b[0;34m.\u001b[0m\u001b[0m_make_fit_function\u001b[0m\u001b[0;34m(\u001b[0m\u001b[0;34m)\u001b[0m\u001b[0;34m\u001b[0m\u001b[0;34m\u001b[0m\u001b[0m\n\u001b[0;32m-> 1191\u001b[0;31m         \u001b[0moutputs\u001b[0m \u001b[0;34m=\u001b[0m \u001b[0mself\u001b[0m\u001b[0;34m.\u001b[0m\u001b[0m_fit_function\u001b[0m\u001b[0;34m(\u001b[0m\u001b[0mins\u001b[0m\u001b[0;34m)\u001b[0m  \u001b[0;31m# pylint: disable=not-callable\u001b[0m\u001b[0;34m\u001b[0m\u001b[0;34m\u001b[0m\u001b[0m\n\u001b[0m\u001b[1;32m   1192\u001b[0m \u001b[0;34m\u001b[0m\u001b[0m\n\u001b[1;32m   1193\u001b[0m     \u001b[0;32mif\u001b[0m \u001b[0mreset_metrics\u001b[0m\u001b[0;34m:\u001b[0m\u001b[0;34m\u001b[0m\u001b[0;34m\u001b[0m\u001b[0m\n",
      "\u001b[0;32m~/venv/py3.6/lib/python3.6/site-packages/tensorflow/python/keras/backend.py\u001b[0m in \u001b[0;36m__call__\u001b[0;34m(self, inputs)\u001b[0m\n\u001b[1;32m   3074\u001b[0m \u001b[0;34m\u001b[0m\u001b[0m\n\u001b[1;32m   3075\u001b[0m     fetched = self._callable_fn(*array_vals,\n\u001b[0;32m-> 3076\u001b[0;31m                                 run_metadata=self.run_metadata)\n\u001b[0m\u001b[1;32m   3077\u001b[0m     \u001b[0mself\u001b[0m\u001b[0;34m.\u001b[0m\u001b[0m_call_fetch_callbacks\u001b[0m\u001b[0;34m(\u001b[0m\u001b[0mfetched\u001b[0m\u001b[0;34m[\u001b[0m\u001b[0;34m-\u001b[0m\u001b[0mlen\u001b[0m\u001b[0;34m(\u001b[0m\u001b[0mself\u001b[0m\u001b[0;34m.\u001b[0m\u001b[0m_fetches\u001b[0m\u001b[0;34m)\u001b[0m\u001b[0;34m:\u001b[0m\u001b[0;34m]\u001b[0m\u001b[0;34m)\u001b[0m\u001b[0;34m\u001b[0m\u001b[0;34m\u001b[0m\u001b[0m\n\u001b[1;32m   3078\u001b[0m     return nest.pack_sequence_as(self._outputs_structure,\n",
      "\u001b[0;32m~/venv/py3.6/lib/python3.6/site-packages/tensorflow/python/client/session.py\u001b[0m in \u001b[0;36m__call__\u001b[0;34m(self, *args, **kwargs)\u001b[0m\n\u001b[1;32m   1437\u001b[0m           ret = tf_session.TF_SessionRunCallable(\n\u001b[1;32m   1438\u001b[0m               \u001b[0mself\u001b[0m\u001b[0;34m.\u001b[0m\u001b[0m_session\u001b[0m\u001b[0;34m.\u001b[0m\u001b[0m_session\u001b[0m\u001b[0;34m,\u001b[0m \u001b[0mself\u001b[0m\u001b[0;34m.\u001b[0m\u001b[0m_handle\u001b[0m\u001b[0;34m,\u001b[0m \u001b[0margs\u001b[0m\u001b[0;34m,\u001b[0m \u001b[0mstatus\u001b[0m\u001b[0;34m,\u001b[0m\u001b[0;34m\u001b[0m\u001b[0;34m\u001b[0m\u001b[0m\n\u001b[0;32m-> 1439\u001b[0;31m               run_metadata_ptr)\n\u001b[0m\u001b[1;32m   1440\u001b[0m         \u001b[0;32mif\u001b[0m \u001b[0mrun_metadata\u001b[0m\u001b[0;34m:\u001b[0m\u001b[0;34m\u001b[0m\u001b[0;34m\u001b[0m\u001b[0m\n\u001b[1;32m   1441\u001b[0m           \u001b[0mproto_data\u001b[0m \u001b[0;34m=\u001b[0m \u001b[0mtf_session\u001b[0m\u001b[0;34m.\u001b[0m\u001b[0mTF_GetBuffer\u001b[0m\u001b[0;34m(\u001b[0m\u001b[0mrun_metadata_ptr\u001b[0m\u001b[0;34m)\u001b[0m\u001b[0;34m\u001b[0m\u001b[0;34m\u001b[0m\u001b[0m\n",
      "\u001b[0;32m~/venv/py3.6/lib/python3.6/site-packages/tensorflow/python/framework/errors_impl.py\u001b[0m in \u001b[0;36m__exit__\u001b[0;34m(self, type_arg, value_arg, traceback_arg)\u001b[0m\n\u001b[1;32m    526\u001b[0m             \u001b[0;32mNone\u001b[0m\u001b[0;34m,\u001b[0m \u001b[0;32mNone\u001b[0m\u001b[0;34m,\u001b[0m\u001b[0;34m\u001b[0m\u001b[0;34m\u001b[0m\u001b[0m\n\u001b[1;32m    527\u001b[0m             \u001b[0mcompat\u001b[0m\u001b[0;34m.\u001b[0m\u001b[0mas_text\u001b[0m\u001b[0;34m(\u001b[0m\u001b[0mc_api\u001b[0m\u001b[0;34m.\u001b[0m\u001b[0mTF_Message\u001b[0m\u001b[0;34m(\u001b[0m\u001b[0mself\u001b[0m\u001b[0;34m.\u001b[0m\u001b[0mstatus\u001b[0m\u001b[0;34m.\u001b[0m\u001b[0mstatus\u001b[0m\u001b[0;34m)\u001b[0m\u001b[0;34m)\u001b[0m\u001b[0;34m,\u001b[0m\u001b[0;34m\u001b[0m\u001b[0;34m\u001b[0m\u001b[0m\n\u001b[0;32m--> 528\u001b[0;31m             c_api.TF_GetCode(self.status.status))\n\u001b[0m\u001b[1;32m    529\u001b[0m     \u001b[0;31m# Delete the underlying status object from memory otherwise it stays alive\u001b[0m\u001b[0;34m\u001b[0m\u001b[0;34m\u001b[0m\u001b[0;34m\u001b[0m\u001b[0m\n\u001b[1;32m    530\u001b[0m     \u001b[0;31m# as there is a reference to status from this from the traceback due to\u001b[0m\u001b[0;34m\u001b[0m\u001b[0;34m\u001b[0m\u001b[0;34m\u001b[0m\u001b[0m\n",
      "\u001b[0;31mInternalError\u001b[0m: Dst tensor is not initialized.\n\t [[{{node training/Adam/gradients/lstm/while/clip_by_value_2/Minimum_grad/LessEqual/StackPopV2}}]]\n\t [[{{node loss/mul}}]]"
     ]
    }
   ],
   "source": [
    "history = model.fit_generator(\n",
    "    DATA['train']['generator'], \n",
    "    epochs=EPOCHS, \n",
    "    steps_per_epoch=len(DATA['train']['generator']), \n",
    "    callbacks=callbacks\n",
    ")"
   ]
  },
  {
   "cell_type": "markdown",
   "metadata": {},
   "source": [
    "# save model"
   ]
  },
  {
   "cell_type": "code",
   "execution_count": null,
   "metadata": {},
   "outputs": [],
   "source": [
    "file_name = 'model_end_%s.h5' % history.history['mean_absolute_error'][-1]\n",
    "model.save(os.path.join(SESS_DIR, file_name))"
   ]
  },
  {
   "cell_type": "markdown",
   "metadata": {},
   "source": [
    "# plot training error per epoch"
   ]
  },
  {
   "cell_type": "code",
   "execution_count": null,
   "metadata": {},
   "outputs": [],
   "source": [
    "file_path = os.path.join(SESS_DIR, 'training_error.jpeg')\n",
    "title = 'Model 5: traning mean absolute error: %s' % history.history['mean_absolute_error'][-1]\n",
    "\n",
    "# make plot\n",
    "trace = plotly.graph_objs.Scatter(\n",
    "    x=list(range(1, len(pandas.DataFrame(history.history['mean_absolute_error']))+1)),\n",
    "    y=history.history['mean_absolute_error']\n",
    ")\n",
    "layout = plotly.graph_objs.Layout(\n",
    "    title=title,\n",
    "    xaxis=dict(title='epochs'),\n",
    "    yaxis=dict(title='mean absolute error')\n",
    ")\n",
    "fig = plotly.graph_objs.Figure(data=[trace], layout=layout)\n",
    "\n",
    "# save plot to file\n",
    "CS230.data.write_image(fig, file_path)\n",
    "\n",
    "# display plot from file\n",
    "display(Image(filename=file_path))"
   ]
  },
  {
   "cell_type": "markdown",
   "metadata": {},
   "source": [
    "# predict on dev set"
   ]
  },
  {
   "cell_type": "code",
   "execution_count": null,
   "metadata": {},
   "outputs": [],
   "source": [
    "predictions = model.predict(DATA['dev']['generator'])"
   ]
  },
  {
   "cell_type": "code",
   "execution_count": null,
   "metadata": {},
   "outputs": [],
   "source": [
    "df_predictions = pandas.DataFrame(predictions, columns=COLS_Y)"
   ]
  },
  {
   "cell_type": "code",
   "execution_count": null,
   "metadata": {},
   "outputs": [],
   "source": [
    "df_error = DATA['dev']['df']['y'][COLS_Y] - df_predictions[COLS_Y]"
   ]
  },
  {
   "cell_type": "markdown",
   "metadata": {},
   "source": [
    "# explore dev set results"
   ]
  },
  {
   "cell_type": "code",
   "execution_count": null,
   "metadata": {},
   "outputs": [],
   "source": [
    "sets = [('dev x', DATA['dev']['df']['x']), ('dev y', DATA['dev']['df']['y']), ('predictions', df_predictions), ('error', df_error)]\n",
    "\n",
    "indexes = [random.randint(1, len(DATA['dev']['df']['x'])) for x in range(3)]\n",
    "\n",
    "for name, df in sets:\n",
    "    print(name)\n",
    "    display(df.iloc[indexes,:])\n",
    "for name, df in sets:\n",
    "    print('%s max' % name)\n",
    "    display(pandas.DataFrame(df.max()).T)\n",
    "for name, df in sets:\n",
    "    print('%s min' % name)\n",
    "    display(pandas.DataFrame(df.min()).T)"
   ]
  },
  {
   "cell_type": "code",
   "execution_count": null,
   "metadata": {},
   "outputs": [],
   "source": []
  }
 ],
 "metadata": {
  "kernelspec": {
   "display_name": "Python 3",
   "language": "python",
   "name": "python3"
  },
  "language_info": {
   "codemirror_mode": {
    "name": "ipython",
    "version": 3
   },
   "file_extension": ".py",
   "mimetype": "text/x-python",
   "name": "python",
   "nbconvert_exporter": "python",
   "pygments_lexer": "ipython3",
   "version": "3.6.5"
  }
 },
 "nbformat": 4,
 "nbformat_minor": 2
}
