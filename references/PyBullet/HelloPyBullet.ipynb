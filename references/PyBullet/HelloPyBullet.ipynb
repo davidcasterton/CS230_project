{
  "cells": [
    {
      "cell_type": "code",
      "execution_count": 1,
      "metadata": {
        "pycharm": {}
      },
      "outputs": [],
      "source": "# https://github.com/bulletphysics/bullet3/tree/master/examples/pybullet/notebooks\n\nimport pybullet as p"
    },
    {
      "cell_type": "code",
      "execution_count": 2,
      "metadata": {
        "pycharm": {}
      },
      "outputs": [
        {
          "data": {
            "text/plain": [
              "0"
            ]
          },
          "execution_count": 2,
          "metadata": {},
          "output_type": "execute_result"
        }
      ],
      "source": [
        "p.connect(p.DIRECT)"
      ]
    },
    {
      "cell_type": "code",
      "execution_count": 3,
      "metadata": {
        "pycharm": {}
      },
      "outputs": [
        {
          "data": {
            "text/plain": [
              "0"
            ]
          },
          "execution_count": 3,
          "metadata": {},
          "output_type": "execute_result"
        }
      ],
      "source": [
        "p.loadURDF(\"plane.urdf\")"
      ]
    },
    {
      "cell_type": "code",
      "execution_count": 4,
      "metadata": {
        "pycharm": {}
      },
      "outputs": [],
      "source": [
        "r2d2\u003dp.loadURDF(\"r2d2.urdf\",[0,0,0.5])"
      ]
    },
    {
      "cell_type": "code",
      "execution_count": 5,
      "metadata": {
        "pycharm": {}
      },
      "outputs": [
        {
          "data": {
            "text/plain": [
              "2"
            ]
          },
          "execution_count": 5,
          "metadata": {},
          "output_type": "execute_result"
        }
      ],
      "source": [
        "p.getNumBodies()"
      ]
    },
    {
      "cell_type": "code",
      "execution_count": 6,
      "metadata": {
        "pycharm": {}
      },
      "outputs": [
        {
          "name": "stdout",
          "output_type": "stream",
          "text": [
            "joint 0 name\u003d base_to_right_leg\n",
            "joint 1 name\u003d right_base_joint\n",
            "joint 2 name\u003d right_front_wheel_joint\n",
            "joint 3 name\u003d right_back_wheel_joint\n",
            "joint 4 name\u003d base_to_left_leg\n",
            "joint 5 name\u003d left_base_joint\n",
            "joint 6 name\u003d left_front_wheel_joint\n",
            "joint 7 name\u003d left_back_wheel_joint\n",
            "joint 8 name\u003d gripper_extension\n",
            "joint 9 name\u003d left_gripper_joint\n",
            "joint 10 name\u003d left_tip_joint\n",
            "joint 11 name\u003d right_gripper_joint\n",
            "joint 12 name\u003d right_tip_joint\n",
            "joint 13 name\u003d head_swivel\n",
            "joint 14 name\u003d tobox\n"
          ]
        }
      ],
      "source": [
        "for i in range (p.getNumJoints(r2d2)):\n",
        "    jointInfo\u003dp.getJointInfo(r2d2,i)\n",
        "    print(\"joint\",jointInfo[0],\"name\u003d\",jointInfo[1].decode(\u0027ascii\u0027))"
      ]
    },
    {
      "cell_type": "code",
      "execution_count": 7,
      "metadata": {
        "pycharm": {}
      },
      "outputs": [
        {
          "name": "stdout",
          "output_type": "stream",
          "text": [
            "pos \u003d 0.00000,0.00000,0.50000   \n",
            "pos \u003d 0.00000,-0.00000,0.49983   \n",
            "pos \u003d 0.00000,-0.00000,0.49948   \n",
            "pos \u003d 0.00000,-0.00000,0.49896   \n",
            "pos \u003d 0.00000,-0.00000,0.49826   \n",
            "pos \u003d 0.00000,-0.00000,0.49740   \n",
            "pos \u003d 0.00000,-0.00000,0.49636   \n",
            "pos \u003d 0.00000,-0.00000,0.49514   \n",
            "pos \u003d 0.00000,-0.00000,0.49375   \n",
            "pos \u003d 0.00000,-0.00000,0.49219   \n"
          ]
        }
      ],
      "source": [
        "p.setGravity(0,0,-10)\n",
        "precision\u003d5\n",
        "for i in range (10):\n",
        "    pos,orn \u003d p.getBasePositionAndOrientation(r2d2)\n",
        "    posmsg\u003d\u0027pos \u003d {posx:.{prec}f},{posy:.{prec}f},{posz:.{prec}f}   \u0027.format(posx\u003dpos[0],posy\u003dpos[1],posz\u003dpos[2], prec\u003dprecision)\n",
        "    print(posmsg)\n",
        "    p.stepSimulation()"
      ]
    },
    {
      "cell_type": "code",
      "execution_count": 8,
      "metadata": {
        "pycharm": {}
      },
      "outputs": [
        {
          "data": {
            "text/plain": [
              "()"
            ]
          },
          "execution_count": 8,
          "metadata": {},
          "output_type": "execute_result"
        }
      ],
      "source": [
        "p.stepSimulation()"
      ]
    },
    {
      "cell_type": "code",
      "execution_count": 9,
      "metadata": {
        "pycharm": {}
      },
      "outputs": [],
      "source": [
        "%matplotlib inline\n",
        "\n",
        "import matplotlib\n",
        "import numpy as np\n",
        "import matplotlib.pyplot as plt"
      ]
    },
    {
      "cell_type": "code",
      "execution_count": 14,
      "metadata": {
        "pycharm": {}
      },
      "outputs": [],
      "source": [
        "camTargetPos \u003d [0,0,0]\n",
        "cameraUp \u003d [0,0,1]\n",
        "cameraPos \u003d [1,1,1]\n",
        "\n",
        "pitch \u003d -10.0\n",
        "yaw \u003d 60\n",
        "roll\u003d0\n",
        "upAxisIndex \u003d 2\n",
        "camDistance \u003d 4\n",
        "pixelWidth \u003d 320\n",
        "pixelHeight \u003d 200\n",
        "nearPlane \u003d 0.01\n",
        "farPlane \u003d 100\n",
        "fov \u003d 60\n",
        "viewMatrix \u003d p.computeViewMatrixFromYawPitchRoll(camTargetPos, camDistance, yaw, pitch, roll, upAxisIndex)\n",
        "aspect \u003d pixelWidth / pixelHeight;\n",
        "projectionMatrix \u003d p.computeProjectionMatrixFOV(fov, aspect, nearPlane, farPlane);\n",
        "img_arr \u003d p.getCameraImage(pixelWidth, pixelHeight, viewMatrix,projectionMatrix, shadow\u003d1,lightDirection\u003d[1,1,1])\n"
      ]
    },
    {
      "cell_type": "code",
      "execution_count": 15,
      "metadata": {
        "pycharm": {}
      },
      "outputs": [
        {
          "data": {
            "image/png": "[encoded data removed]",
            "text/plain": [
              "\u003cFigure size 432x288 with 1 Axes\u003e"
            ]
          },
          "metadata": {},
          "output_type": "display_data"
        }
      ],
      "source": [
        "w\u003dimg_arr[0] #width of the image, in pixels\n",
        "h\u003dimg_arr[1] #height of the image, in pixels\n",
        "rgb\u003dimg_arr[2] #color data RGB\n",
        "plt.imshow(rgb,interpolation\u003d\u0027none\u0027)\n",
        "plt.draw()\n",
        "plt.show()"
      ]
    },
    {
      "cell_type": "code",
      "execution_count": null,
      "metadata": {
        "collapsed": true,
        "pycharm": {}
      },
      "outputs": [],
      "source": []
    }
  ],
  "metadata": {
    "kernelspec": {
      "display_name": "Python 3",
      "language": "python",
      "name": "python3"
    },
    "language_info": {
      "codemirror_mode": {
        "name": "ipython",
        "version": 3
      },
      "file_extension": ".py",
      "mimetype": "text/x-python",
      "name": "python",
      "nbconvert_exporter": "python",
      "pygments_lexer": "ipython3",
      "version": "3.6.5"
    }
  },
  "nbformat": 4,
  "nbformat_minor": 2
}