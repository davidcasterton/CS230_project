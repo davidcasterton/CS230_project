{
 "cells": [
  {
   "cell_type": "code",
   "execution_count": 1,
   "metadata": {
    "ExecuteTime": {
     "end_time": "2019-05-31T01:07:35.429774Z",
     "start_time": "2019-05-31T01:07:33.975782Z"
    }
   },
   "outputs": [],
   "source": [
    "import copy\n",
    "import matplotlib.pyplot as plt\n",
    "import numpy\n",
    "import pandas\n",
    "import plotly\n",
    "import six\n",
    "import tensorflow as tf\n",
    "\n",
    "import CS230"
   ]
  },
  {
   "cell_type": "code",
   "execution_count": 2,
   "metadata": {
    "ExecuteTime": {
     "end_time": "2019-05-31T01:07:35.434742Z",
     "start_time": "2019-05-31T01:07:35.431765Z"
    }
   },
   "outputs": [],
   "source": [
    "file_paths = CS230.data.get_all_file_paths()"
   ]
  },
  {
   "cell_type": "markdown",
   "metadata": {
    "ExecuteTime": {
     "end_time": "2019-05-30T19:09:09.099347Z",
     "start_time": "2019-05-30T19:09:09.095659Z"
    }
   },
   "source": [
    "# experiment #2 - smallest possible network\n",
    "- input: steering/brake/throttle\n",
    "- output: discrete derivative x/y velocity"
   ]
  },
  {
   "cell_type": "code",
   "execution_count": 3,
   "metadata": {
    "ExecuteTime": {
     "end_time": "2019-05-31T01:10:26.130218Z",
     "start_time": "2019-05-31T01:10:25.360282Z"
    }
   },
   "outputs": [],
   "source": [
    "file_path = file_paths[0]\n",
    "data_columns = copy.deepcopy(CS230.data.COLUMNS_HUMAN_INPUT)\n",
    "data_columns.extend(['vxCG', 'pitchAngle'])\n",
    "label_columns = ['deriv_vxCG', 'deriv_vyCG']\n",
    "\n",
    "train_percent = 0.9\n",
    "dev_percent = 0.05\n",
    "test_percent = 0.05\n",
    "\n",
    "df = CS230.data.load(file_path)\n",
    "df = CS230.data.stride_rows(df, stride=50)\n",
    "df.dropna(axis=0, inplace=True)\n",
    "df = CS230.data.add_derivatives(df, stride=1)\n",
    "df = CS230.data.clean_discontinuities(df, stride=1)\n",
    "\n",
    "#df = tf.keras.utils.normalize(df, axis=0)  # TODO details\n",
    "\n",
    "df_train, df_dev, df_test, data_columns, label_columns = CS230.data.get_data_sets(df, \n",
    "                                                            train_percent, dev_percent, test_percent, \n",
    "                                                            data_columns, label_columns)"
   ]
  },
  {
   "cell_type": "code",
   "execution_count": 4,
   "metadata": {},
   "outputs": [
    {
     "data": {
      "text/html": [
       "<div>\n",
       "<style scoped>\n",
       "    .dataframe tbody tr th:only-of-type {\n",
       "        vertical-align: middle;\n",
       "    }\n",
       "\n",
       "    .dataframe tbody tr th {\n",
       "        vertical-align: top;\n",
       "    }\n",
       "\n",
       "    .dataframe thead th {\n",
       "        text-align: right;\n",
       "    }\n",
       "</style>\n",
       "<table border=\"1\" class=\"dataframe\">\n",
       "  <thead>\n",
       "    <tr style=\"text-align: right;\">\n",
       "      <th></th>\n",
       "      <th>time</th>\n",
       "      <th>handwheelAngle</th>\n",
       "      <th>throttle</th>\n",
       "      <th>brake</th>\n",
       "      <th>clutch</th>\n",
       "      <th>engineSpeed</th>\n",
       "      <th>PPS</th>\n",
       "      <th>gpsTime</th>\n",
       "      <th>latitude</th>\n",
       "      <th>longitude</th>\n",
       "      <th>...</th>\n",
       "      <th>deriv_rollAngle</th>\n",
       "      <th>deriv_rollRate</th>\n",
       "      <th>deriv_vxCG</th>\n",
       "      <th>deriv_vyCG</th>\n",
       "      <th>deriv_wheelAccelFL</th>\n",
       "      <th>deriv_wheelAccelFR</th>\n",
       "      <th>deriv_wheelAccelRL</th>\n",
       "      <th>deriv_wheelAccelRR</th>\n",
       "      <th>deriv_yawAngle</th>\n",
       "      <th>deriv_yawRate</th>\n",
       "    </tr>\n",
       "  </thead>\n",
       "  <tbody>\n",
       "    <tr>\n",
       "      <th>1359</th>\n",
       "      <td>67.95</td>\n",
       "      <td>5.0</td>\n",
       "      <td>0.9</td>\n",
       "      <td>0.0</td>\n",
       "      <td>32.8</td>\n",
       "      <td>1398</td>\n",
       "      <td>5.0</td>\n",
       "      <td>61445.05</td>\n",
       "      <td>36.585468</td>\n",
       "      <td>-121.754113</td>\n",
       "      <td>...</td>\n",
       "      <td>0.00</td>\n",
       "      <td>0.00</td>\n",
       "      <td>0.00</td>\n",
       "      <td>0.00</td>\n",
       "      <td>0.00</td>\n",
       "      <td>0.00</td>\n",
       "      <td>0.00</td>\n",
       "      <td>0.00</td>\n",
       "      <td>0.00</td>\n",
       "      <td>0.00</td>\n",
       "    </tr>\n",
       "    <tr>\n",
       "      <th>1360</th>\n",
       "      <td>68.00</td>\n",
       "      <td>5.4</td>\n",
       "      <td>0.9</td>\n",
       "      <td>0.0</td>\n",
       "      <td>33.8</td>\n",
       "      <td>1410</td>\n",
       "      <td>5.0</td>\n",
       "      <td>61445.10</td>\n",
       "      <td>36.585470</td>\n",
       "      <td>-121.754115</td>\n",
       "      <td>...</td>\n",
       "      <td>-0.08</td>\n",
       "      <td>-1.14</td>\n",
       "      <td>-0.04</td>\n",
       "      <td>0.01</td>\n",
       "      <td>1.87</td>\n",
       "      <td>1.67</td>\n",
       "      <td>0.09</td>\n",
       "      <td>-2.93</td>\n",
       "      <td>0.04</td>\n",
       "      <td>0.03</td>\n",
       "    </tr>\n",
       "    <tr>\n",
       "      <th>1361</th>\n",
       "      <td>68.05</td>\n",
       "      <td>5.9</td>\n",
       "      <td>1.0</td>\n",
       "      <td>0.0</td>\n",
       "      <td>30.4</td>\n",
       "      <td>1404</td>\n",
       "      <td>5.0</td>\n",
       "      <td>61445.15</td>\n",
       "      <td>36.585471</td>\n",
       "      <td>-121.754117</td>\n",
       "      <td>...</td>\n",
       "      <td>0.03</td>\n",
       "      <td>3.39</td>\n",
       "      <td>-0.01</td>\n",
       "      <td>0.00</td>\n",
       "      <td>-0.69</td>\n",
       "      <td>-1.87</td>\n",
       "      <td>-0.19</td>\n",
       "      <td>5.46</td>\n",
       "      <td>0.05</td>\n",
       "      <td>0.33</td>\n",
       "    </tr>\n",
       "    <tr>\n",
       "      <th>1362</th>\n",
       "      <td>68.10</td>\n",
       "      <td>6.7</td>\n",
       "      <td>1.0</td>\n",
       "      <td>0.0</td>\n",
       "      <td>34.8</td>\n",
       "      <td>1380</td>\n",
       "      <td>5.0</td>\n",
       "      <td>61445.20</td>\n",
       "      <td>36.585473</td>\n",
       "      <td>-121.754120</td>\n",
       "      <td>...</td>\n",
       "      <td>0.12</td>\n",
       "      <td>1.89</td>\n",
       "      <td>-0.04</td>\n",
       "      <td>-0.01</td>\n",
       "      <td>-0.59</td>\n",
       "      <td>1.18</td>\n",
       "      <td>1.47</td>\n",
       "      <td>-1.19</td>\n",
       "      <td>0.06</td>\n",
       "      <td>-0.35</td>\n",
       "    </tr>\n",
       "    <tr>\n",
       "      <th>1363</th>\n",
       "      <td>68.15</td>\n",
       "      <td>7.1</td>\n",
       "      <td>1.0</td>\n",
       "      <td>0.0</td>\n",
       "      <td>40.7</td>\n",
       "      <td>1380</td>\n",
       "      <td>5.0</td>\n",
       "      <td>61445.25</td>\n",
       "      <td>36.585474</td>\n",
       "      <td>-121.754121</td>\n",
       "      <td>...</td>\n",
       "      <td>-0.17</td>\n",
       "      <td>-4.27</td>\n",
       "      <td>-0.06</td>\n",
       "      <td>-0.02</td>\n",
       "      <td>3.83</td>\n",
       "      <td>-2.55</td>\n",
       "      <td>0.10</td>\n",
       "      <td>0.47</td>\n",
       "      <td>0.01</td>\n",
       "      <td>-0.36</td>\n",
       "    </tr>\n",
       "  </tbody>\n",
       "</table>\n",
       "<p>5 rows × 70 columns</p>\n",
       "</div>"
      ],
      "text/plain": [
       "       time  handwheelAngle  throttle  brake  clutch  engineSpeed  PPS  \\\n",
       "1359  67.95             5.0       0.9    0.0    32.8         1398  5.0   \n",
       "1360  68.00             5.4       0.9    0.0    33.8         1410  5.0   \n",
       "1361  68.05             5.9       1.0    0.0    30.4         1404  5.0   \n",
       "1362  68.10             6.7       1.0    0.0    34.8         1380  5.0   \n",
       "1363  68.15             7.1       1.0    0.0    40.7         1380  5.0   \n",
       "\n",
       "       gpsTime   latitude   longitude  ...  deriv_rollAngle  deriv_rollRate  \\\n",
       "1359  61445.05  36.585468 -121.754113  ...             0.00            0.00   \n",
       "1360  61445.10  36.585470 -121.754115  ...            -0.08           -1.14   \n",
       "1361  61445.15  36.585471 -121.754117  ...             0.03            3.39   \n",
       "1362  61445.20  36.585473 -121.754120  ...             0.12            1.89   \n",
       "1363  61445.25  36.585474 -121.754121  ...            -0.17           -4.27   \n",
       "\n",
       "      deriv_vxCG  deriv_vyCG  deriv_wheelAccelFL  deriv_wheelAccelFR  \\\n",
       "1359        0.00        0.00                0.00                0.00   \n",
       "1360       -0.04        0.01                1.87                1.67   \n",
       "1361       -0.01        0.00               -0.69               -1.87   \n",
       "1362       -0.04       -0.01               -0.59                1.18   \n",
       "1363       -0.06       -0.02                3.83               -2.55   \n",
       "\n",
       "      deriv_wheelAccelRL  deriv_wheelAccelRR  deriv_yawAngle  deriv_yawRate  \n",
       "1359                0.00                0.00            0.00           0.00  \n",
       "1360                0.09               -2.93            0.04           0.03  \n",
       "1361               -0.19                5.46            0.05           0.33  \n",
       "1362                1.47               -1.19            0.06          -0.35  \n",
       "1363                0.10                0.47            0.01          -0.36  \n",
       "\n",
       "[5 rows x 70 columns]"
      ]
     },
     "execution_count": 4,
     "metadata": {},
     "output_type": "execute_result"
    }
   ],
   "source": [
    "df.head()"
   ]
  },
  {
   "cell_type": "code",
   "execution_count": 5,
   "metadata": {},
   "outputs": [
    {
     "data": {
      "text/html": [
       "<div>\n",
       "<style scoped>\n",
       "    .dataframe tbody tr th:only-of-type {\n",
       "        vertical-align: middle;\n",
       "    }\n",
       "\n",
       "    .dataframe tbody tr th {\n",
       "        vertical-align: top;\n",
       "    }\n",
       "\n",
       "    .dataframe thead th {\n",
       "        text-align: right;\n",
       "    }\n",
       "</style>\n",
       "<table border=\"1\" class=\"dataframe\">\n",
       "  <thead>\n",
       "    <tr style=\"text-align: right;\">\n",
       "      <th></th>\n",
       "      <th>data_brake</th>\n",
       "      <th>data_throttle</th>\n",
       "      <th>data_handwheelAngle</th>\n",
       "      <th>data_vxCG</th>\n",
       "      <th>data_pitchAngle</th>\n",
       "    </tr>\n",
       "  </thead>\n",
       "  <tbody>\n",
       "    <tr>\n",
       "      <th>17902</th>\n",
       "      <td>0.5</td>\n",
       "      <td>0.9</td>\n",
       "      <td>-34.2</td>\n",
       "      <td>0.01</td>\n",
       "      <td>-0.79</td>\n",
       "    </tr>\n",
       "    <tr>\n",
       "      <th>19661</th>\n",
       "      <td>0.0</td>\n",
       "      <td>3.5</td>\n",
       "      <td>0.0</td>\n",
       "      <td>34.74</td>\n",
       "      <td>-0.37</td>\n",
       "    </tr>\n",
       "    <tr>\n",
       "      <th>23164</th>\n",
       "      <td>0.0</td>\n",
       "      <td>0.6</td>\n",
       "      <td>-8.9</td>\n",
       "      <td>28.74</td>\n",
       "      <td>2.65</td>\n",
       "    </tr>\n",
       "    <tr>\n",
       "      <th>4122</th>\n",
       "      <td>0.0</td>\n",
       "      <td>0.7</td>\n",
       "      <td>-33.0</td>\n",
       "      <td>-0.01</td>\n",
       "      <td>-0.78</td>\n",
       "    </tr>\n",
       "    <tr>\n",
       "      <th>18878</th>\n",
       "      <td>0.0</td>\n",
       "      <td>0.7</td>\n",
       "      <td>2.2</td>\n",
       "      <td>23.15</td>\n",
       "      <td>2.03</td>\n",
       "    </tr>\n",
       "  </tbody>\n",
       "</table>\n",
       "</div>"
      ],
      "text/plain": [
       "       data_brake  data_throttle  data_handwheelAngle  data_vxCG  \\\n",
       "17902         0.5            0.9                -34.2       0.01   \n",
       "19661         0.0            3.5                  0.0      34.74   \n",
       "23164         0.0            0.6                 -8.9      28.74   \n",
       "4122          0.0            0.7                -33.0      -0.01   \n",
       "18878         0.0            0.7                  2.2      23.15   \n",
       "\n",
       "       data_pitchAngle  \n",
       "17902            -0.79  \n",
       "19661            -0.37  \n",
       "23164             2.65  \n",
       "4122             -0.78  \n",
       "18878             2.03  "
      ]
     },
     "execution_count": 5,
     "metadata": {},
     "output_type": "execute_result"
    }
   ],
   "source": [
    "df_train[data_columns].head()"
   ]
  },
  {
   "cell_type": "code",
   "execution_count": 6,
   "metadata": {},
   "outputs": [
    {
     "data": {
      "text/html": [
       "<div>\n",
       "<style scoped>\n",
       "    .dataframe tbody tr th:only-of-type {\n",
       "        vertical-align: middle;\n",
       "    }\n",
       "\n",
       "    .dataframe tbody tr th {\n",
       "        vertical-align: top;\n",
       "    }\n",
       "\n",
       "    .dataframe thead th {\n",
       "        text-align: right;\n",
       "    }\n",
       "</style>\n",
       "<table border=\"1\" class=\"dataframe\">\n",
       "  <thead>\n",
       "    <tr style=\"text-align: right;\">\n",
       "      <th></th>\n",
       "      <th>label_deriv_vxCG</th>\n",
       "      <th>label_deriv_vyCG</th>\n",
       "    </tr>\n",
       "  </thead>\n",
       "  <tbody>\n",
       "    <tr>\n",
       "      <th>17902</th>\n",
       "      <td>0.00</td>\n",
       "      <td>0.02</td>\n",
       "    </tr>\n",
       "    <tr>\n",
       "      <th>19661</th>\n",
       "      <td>-0.09</td>\n",
       "      <td>0.00</td>\n",
       "    </tr>\n",
       "    <tr>\n",
       "      <th>23164</th>\n",
       "      <td>-0.24</td>\n",
       "      <td>-0.01</td>\n",
       "    </tr>\n",
       "    <tr>\n",
       "      <th>4122</th>\n",
       "      <td>0.00</td>\n",
       "      <td>0.00</td>\n",
       "    </tr>\n",
       "    <tr>\n",
       "      <th>18878</th>\n",
       "      <td>-0.07</td>\n",
       "      <td>0.02</td>\n",
       "    </tr>\n",
       "  </tbody>\n",
       "</table>\n",
       "</div>"
      ],
      "text/plain": [
       "       label_deriv_vxCG  label_deriv_vyCG\n",
       "17902              0.00              0.02\n",
       "19661             -0.09              0.00\n",
       "23164             -0.24             -0.01\n",
       "4122               0.00              0.00\n",
       "18878             -0.07              0.02"
      ]
     },
     "execution_count": 6,
     "metadata": {},
     "output_type": "execute_result"
    }
   ],
   "source": [
    "df_train[label_columns].head()"
   ]
  },
  {
   "cell_type": "code",
   "execution_count": 7,
   "metadata": {
    "ExecuteTime": {
     "end_time": "2019-05-31T01:10:26.148488Z",
     "start_time": "2019-05-31T01:10:26.131634Z"
    }
   },
   "outputs": [],
   "source": [
    "model = tf.keras.Sequential()\n",
    "\n",
    "model.add(tf.keras.layers.Dense(len(data_columns), activation='relu'))\n",
    "\n",
    "#model.add(tf.keras.layers.Dropout(0.2))\n",
    "#model.add(tf.keras.layers.Dense(len(data_columns), activation='relu'))\n",
    "\n",
    "#model.add(tf.keras.layers.Dropout(0.2))\n",
    "model.add(tf.keras.layers.Dense(len(label_columns), activation='sigmoid'))"
   ]
  },
  {
   "cell_type": "code",
   "execution_count": 8,
   "metadata": {},
   "outputs": [
    {
     "name": "stdout",
     "output_type": "stream",
     "text": [
      "WARNING:tensorflow:From /home/dave/venv/py3.6/lib/python3.6/site-packages/tensorflow/python/ops/resource_variable_ops.py:435: colocate_with (from tensorflow.python.framework.ops) is deprecated and will be removed in a future version.\n",
      "Instructions for updating:\n",
      "Colocations handled automatically by placer.\n"
     ]
    }
   ],
   "source": [
    "optimizer = tf.train.AdamOptimizer(0.001)\n",
    "#optimizer = tf.keras.optimizers.SGD(lr=0.01, decay=1e-6, momentum=0.9, nesterov=True)\n",
    "\n",
    "model.compile(\n",
    "    optimizer=optimizer, \n",
    "    loss='mean_squared_error', \n",
    "    metrics=['mean_absolute_error']\n",
    ")"
   ]
  },
  {
   "cell_type": "code",
   "execution_count": 9,
   "metadata": {
    "ExecuteTime": {
     "end_time": "2019-05-31T01:10:26.167488Z",
     "start_time": "2019-05-31T01:10:26.149832Z"
    }
   },
   "outputs": [],
   "source": [
    "x_train = tf.cast(df_train[data_columns].values, tf.float32)\n",
    "y_train = tf.cast(df_train[label_columns].values, tf.float32)"
   ]
  },
  {
   "cell_type": "code",
   "execution_count": 10,
   "metadata": {
    "ExecuteTime": {
     "end_time": "2019-05-31T01:10:38.570199Z",
     "start_time": "2019-05-31T01:10:26.168950Z"
    }
   },
   "outputs": [
    {
     "name": "stdout",
     "output_type": "stream",
     "text": [
      "WARNING:tensorflow:From /home/dave/venv/py3.6/lib/python3.6/site-packages/tensorflow/python/keras/utils/losses_utils.py:170: to_float (from tensorflow.python.ops.math_ops) is deprecated and will be removed in a future version.\n",
      "Instructions for updating:\n",
      "Use tf.cast instead.\n",
      "WARNING:tensorflow:From /home/dave/venv/py3.6/lib/python3.6/site-packages/tensorflow/python/ops/math_ops.py:3066: to_int32 (from tensorflow.python.ops.math_ops) is deprecated and will be removed in a future version.\n",
      "Instructions for updating:\n",
      "Use tf.cast instead.\n",
      "Epoch 1/20\n",
      "1000/1000 [==============================] - 2s 2ms/step - loss: 0.1569 - mean_absolute_error: 0.2147\n",
      "Epoch 2/20\n",
      "1000/1000 [==============================] - 2s 2ms/step - loss: 0.0115 - mean_absolute_error: 0.0654\n",
      "Epoch 3/20\n",
      "1000/1000 [==============================] - 2s 2ms/step - loss: 0.0106 - mean_absolute_error: 0.0599\n",
      "Epoch 4/20\n",
      "1000/1000 [==============================] - 2s 2ms/step - loss: 0.0104 - mean_absolute_error: 0.0576\n",
      "Epoch 5/20\n",
      "1000/1000 [==============================] - 2s 2ms/step - loss: 0.0103 - mean_absolute_error: 0.0563\n",
      "Epoch 6/20\n",
      "1000/1000 [==============================] - 2s 2ms/step - loss: 0.0102 - mean_absolute_error: 0.0555\n",
      "Epoch 7/20\n",
      "1000/1000 [==============================] - 2s 2ms/step - loss: 0.0102 - mean_absolute_error: 0.0550\n",
      "Epoch 8/20\n",
      "1000/1000 [==============================] - 2s 2ms/step - loss: 0.0102 - mean_absolute_error: 0.0547\n",
      "Epoch 9/20\n",
      "1000/1000 [==============================] - 2s 2ms/step - loss: 0.0102 - mean_absolute_error: 0.0545\n",
      "Epoch 10/20\n",
      "1000/1000 [==============================] - 2s 2ms/step - loss: 0.0102 - mean_absolute_error: 0.0543\n",
      "Epoch 11/20\n",
      "1000/1000 [==============================] - 3s 3ms/step - loss: 0.0102 - mean_absolute_error: 0.0542\n",
      "Epoch 12/20\n",
      "1000/1000 [==============================] - 4s 4ms/step - loss: 0.0102 - mean_absolute_error: 0.0541\n",
      "Epoch 13/20\n",
      "1000/1000 [==============================] - 5s 5ms/step - loss: 0.0102 - mean_absolute_error: 0.0540\n",
      "Epoch 14/20\n",
      "1000/1000 [==============================] - 5s 5ms/step - loss: 0.0102 - mean_absolute_error: 0.0540\n",
      "Epoch 15/20\n",
      "1000/1000 [==============================] - 5s 5ms/step - loss: 0.0102 - mean_absolute_error: 0.0539\n",
      "Epoch 16/20\n",
      "1000/1000 [==============================] - 5s 5ms/step - loss: 0.0102 - mean_absolute_error: 0.0539\n",
      "Epoch 17/20\n",
      "1000/1000 [==============================] - 5s 5ms/step - loss: 0.0102 - mean_absolute_error: 0.0539\n",
      "Epoch 18/20\n",
      "1000/1000 [==============================] - 5s 5ms/step - loss: 0.0102 - mean_absolute_error: 0.0539\n",
      "Epoch 19/20\n",
      "1000/1000 [==============================] - 5s 5ms/step - loss: 0.0102 - mean_absolute_error: 0.0539\n",
      "Epoch 20/20\n",
      "1000/1000 [==============================] - 5s 5ms/step - loss: 0.0102 - mean_absolute_error: 0.0539\n"
     ]
    }
   ],
   "source": [
    "history = model.fit(x_train, y_train, epochs=20, steps_per_epoch=1000)"
   ]
  },
  {
   "cell_type": "code",
   "execution_count": 11,
   "metadata": {
    "ExecuteTime": {
     "end_time": "2019-05-31T01:10:38.719803Z",
     "start_time": "2019-05-31T01:10:38.571745Z"
    }
   },
   "outputs": [
    {
     "data": {
      "text/plain": [
       "Text(0.5, 0, 'epoch')"
      ]
     },
     "execution_count": 11,
     "metadata": {},
     "output_type": "execute_result"
    },
    {
     "data": {
      "image/png": "[encoded data removed]",
      "text/plain": [
       "<Figure size 432x288 with 1 Axes>"
      ]
     },
     "metadata": {},
     "output_type": "display_data"
    }
   ],
   "source": [
    "plt.plot(history.history['mean_absolute_error'])\n",
    "#plt.plot(history.history['val_acc'])\n",
    "plt.title('model error')\n",
    "plt.ylabel('mean abs error')\n",
    "plt.xlabel('epoch')"
   ]
  },
  {
   "cell_type": "code",
   "execution_count": 12,
   "metadata": {
    "ExecuteTime": {
     "end_time": "2019-05-31T01:10:38.730076Z",
     "start_time": "2019-05-31T01:10:38.721336Z"
    }
   },
   "outputs": [],
   "source": [
    "x_dev = tf.cast(df_dev[data_columns].values, tf.float32)\n",
    "y_dev = tf.cast(df_dev[label_columns].values, tf.float32)"
   ]
  },
  {
   "cell_type": "code",
   "execution_count": 13,
   "metadata": {
    "ExecuteTime": {
     "end_time": "2019-05-31T01:10:38.808411Z",
     "start_time": "2019-05-31T01:10:38.731512Z"
    }
   },
   "outputs": [],
   "source": [
    "dev_predictions = model.predict(x_dev, steps=1)"
   ]
  },
  {
   "cell_type": "code",
   "execution_count": 14,
   "metadata": {
    "ExecuteTime": {
     "end_time": "2019-05-31T01:10:38.813272Z",
     "start_time": "2019-05-31T01:10:38.809989Z"
    }
   },
   "outputs": [],
   "source": [
    "df_dev_predictions = pandas.DataFrame(dev_predictions, columns=label_columns)"
   ]
  },
  {
   "cell_type": "code",
   "execution_count": 15,
   "metadata": {
    "ExecuteTime": {
     "end_time": "2019-05-31T01:10:38.831950Z",
     "start_time": "2019-05-31T01:10:38.815299Z"
    }
   },
   "outputs": [
    {
     "data": {
      "text/html": [
       "<div>\n",
       "<style scoped>\n",
       "    .dataframe tbody tr th:only-of-type {\n",
       "        vertical-align: middle;\n",
       "    }\n",
       "\n",
       "    .dataframe tbody tr th {\n",
       "        vertical-align: top;\n",
       "    }\n",
       "\n",
       "    .dataframe thead th {\n",
       "        text-align: right;\n",
       "    }\n",
       "</style>\n",
       "<table border=\"1\" class=\"dataframe\">\n",
       "  <thead>\n",
       "    <tr style=\"text-align: right;\">\n",
       "      <th></th>\n",
       "      <th>data_brake</th>\n",
       "      <th>data_throttle</th>\n",
       "      <th>data_handwheelAngle</th>\n",
       "      <th>data_vxCG</th>\n",
       "      <th>data_pitchAngle</th>\n",
       "      <th>label_deriv_vxCG</th>\n",
       "      <th>label_deriv_vyCG</th>\n",
       "    </tr>\n",
       "  </thead>\n",
       "  <tbody>\n",
       "    <tr>\n",
       "      <th>34572</th>\n",
       "      <td>0.0</td>\n",
       "      <td>28.8</td>\n",
       "      <td>60.2</td>\n",
       "      <td>19.79</td>\n",
       "      <td>0.48</td>\n",
       "      <td>0.16</td>\n",
       "      <td>0.13</td>\n",
       "    </tr>\n",
       "    <tr>\n",
       "      <th>24697</th>\n",
       "      <td>0.0</td>\n",
       "      <td>0.6</td>\n",
       "      <td>0.0</td>\n",
       "      <td>32.18</td>\n",
       "      <td>-1.75</td>\n",
       "      <td>-0.15</td>\n",
       "      <td>-0.01</td>\n",
       "    </tr>\n",
       "    <tr>\n",
       "      <th>1560</th>\n",
       "      <td>0.0</td>\n",
       "      <td>2.3</td>\n",
       "      <td>0.9</td>\n",
       "      <td>5.87</td>\n",
       "      <td>-0.27</td>\n",
       "      <td>0.03</td>\n",
       "      <td>-0.01</td>\n",
       "    </tr>\n",
       "    <tr>\n",
       "      <th>28372</th>\n",
       "      <td>4.2</td>\n",
       "      <td>0.3</td>\n",
       "      <td>-4.7</td>\n",
       "      <td>24.99</td>\n",
       "      <td>0.72</td>\n",
       "      <td>-0.25</td>\n",
       "      <td>0.00</td>\n",
       "    </tr>\n",
       "    <tr>\n",
       "      <th>21241</th>\n",
       "      <td>0.0</td>\n",
       "      <td>73.7</td>\n",
       "      <td>-2.1</td>\n",
       "      <td>38.49</td>\n",
       "      <td>-0.01</td>\n",
       "      <td>0.14</td>\n",
       "      <td>-0.06</td>\n",
       "    </tr>\n",
       "  </tbody>\n",
       "</table>\n",
       "</div>"
      ],
      "text/plain": [
       "       data_brake  data_throttle  data_handwheelAngle  data_vxCG  \\\n",
       "34572         0.0           28.8                 60.2      19.79   \n",
       "24697         0.0            0.6                  0.0      32.18   \n",
       "1560          0.0            2.3                  0.9       5.87   \n",
       "28372         4.2            0.3                 -4.7      24.99   \n",
       "21241         0.0           73.7                 -2.1      38.49   \n",
       "\n",
       "       data_pitchAngle  label_deriv_vxCG  label_deriv_vyCG  \n",
       "34572             0.48              0.16              0.13  \n",
       "24697            -1.75             -0.15             -0.01  \n",
       "1560             -0.27              0.03             -0.01  \n",
       "28372             0.72             -0.25              0.00  \n",
       "21241            -0.01              0.14             -0.06  "
      ]
     },
     "execution_count": 15,
     "metadata": {},
     "output_type": "execute_result"
    }
   ],
   "source": [
    "df_dev.head()"
   ]
  },
  {
   "cell_type": "code",
   "execution_count": 16,
   "metadata": {
    "ExecuteTime": {
     "end_time": "2019-05-31T01:10:38.846047Z",
     "start_time": "2019-05-31T01:10:38.833749Z"
    }
   },
   "outputs": [
    {
     "data": {
      "text/html": [
       "<div>\n",
       "<style scoped>\n",
       "    .dataframe tbody tr th:only-of-type {\n",
       "        vertical-align: middle;\n",
       "    }\n",
       "\n",
       "    .dataframe tbody tr th {\n",
       "        vertical-align: top;\n",
       "    }\n",
       "\n",
       "    .dataframe thead th {\n",
       "        text-align: right;\n",
       "    }\n",
       "</style>\n",
       "<table border=\"1\" class=\"dataframe\">\n",
       "  <thead>\n",
       "    <tr style=\"text-align: right;\">\n",
       "      <th></th>\n",
       "      <th>label_deriv_vxCG</th>\n",
       "      <th>label_deriv_vyCG</th>\n",
       "    </tr>\n",
       "  </thead>\n",
       "  <tbody>\n",
       "    <tr>\n",
       "      <th>0</th>\n",
       "      <td>0.0</td>\n",
       "      <td>0.0</td>\n",
       "    </tr>\n",
       "    <tr>\n",
       "      <th>1</th>\n",
       "      <td>0.0</td>\n",
       "      <td>0.0</td>\n",
       "    </tr>\n",
       "    <tr>\n",
       "      <th>2</th>\n",
       "      <td>0.0</td>\n",
       "      <td>0.0</td>\n",
       "    </tr>\n",
       "    <tr>\n",
       "      <th>3</th>\n",
       "      <td>0.0</td>\n",
       "      <td>0.0</td>\n",
       "    </tr>\n",
       "    <tr>\n",
       "      <th>4</th>\n",
       "      <td>0.0</td>\n",
       "      <td>0.0</td>\n",
       "    </tr>\n",
       "  </tbody>\n",
       "</table>\n",
       "</div>"
      ],
      "text/plain": [
       "   label_deriv_vxCG  label_deriv_vyCG\n",
       "0               0.0               0.0\n",
       "1               0.0               0.0\n",
       "2               0.0               0.0\n",
       "3               0.0               0.0\n",
       "4               0.0               0.0"
      ]
     },
     "execution_count": 16,
     "metadata": {},
     "output_type": "execute_result"
    }
   ],
   "source": [
    "df_dev_predictions.head()"
   ]
  },
  {
   "cell_type": "code",
   "execution_count": 17,
   "metadata": {},
   "outputs": [
    {
     "data": {
      "text/html": [
       "<div>\n",
       "<style scoped>\n",
       "    .dataframe tbody tr th:only-of-type {\n",
       "        vertical-align: middle;\n",
       "    }\n",
       "\n",
       "    .dataframe tbody tr th {\n",
       "        vertical-align: top;\n",
       "    }\n",
       "\n",
       "    .dataframe thead th {\n",
       "        text-align: right;\n",
       "    }\n",
       "</style>\n",
       "<table border=\"1\" class=\"dataframe\">\n",
       "  <thead>\n",
       "    <tr style=\"text-align: right;\">\n",
       "      <th></th>\n",
       "      <th>label_deriv_vxCG</th>\n",
       "      <th>label_deriv_vyCG</th>\n",
       "    </tr>\n",
       "  </thead>\n",
       "  <tbody>\n",
       "    <tr>\n",
       "      <th>0</th>\n",
       "      <td>0.16</td>\n",
       "      <td>0.13</td>\n",
       "    </tr>\n",
       "    <tr>\n",
       "      <th>1</th>\n",
       "      <td>-0.15</td>\n",
       "      <td>-0.01</td>\n",
       "    </tr>\n",
       "    <tr>\n",
       "      <th>2</th>\n",
       "      <td>0.03</td>\n",
       "      <td>-0.01</td>\n",
       "    </tr>\n",
       "    <tr>\n",
       "      <th>3</th>\n",
       "      <td>-0.25</td>\n",
       "      <td>0.00</td>\n",
       "    </tr>\n",
       "    <tr>\n",
       "      <th>4</th>\n",
       "      <td>0.14</td>\n",
       "      <td>-0.06</td>\n",
       "    </tr>\n",
       "  </tbody>\n",
       "</table>\n",
       "</div>"
      ],
      "text/plain": [
       "   label_deriv_vxCG  label_deriv_vyCG\n",
       "0              0.16              0.13\n",
       "1             -0.15             -0.01\n",
       "2              0.03             -0.01\n",
       "3             -0.25              0.00\n",
       "4              0.14             -0.06"
      ]
     },
     "execution_count": 17,
     "metadata": {},
     "output_type": "execute_result"
    }
   ],
   "source": [
    "error = df_dev.reset_index(drop=True)[label_columns] - df_dev_predictions[label_columns]\n",
    "error.head()"
   ]
  },
  {
   "cell_type": "code",
   "execution_count": null,
   "metadata": {},
   "outputs": [],
   "source": []
  }
 ],
 "metadata": {
  "kernelspec": {
   "display_name": "Python 3",
   "language": "python",
   "name": "python3"
  },
  "language_info": {
   "codemirror_mode": {
    "name": "ipython",
    "version": 3
   },
   "file_extension": ".py",
   "mimetype": "text/x-python",
   "name": "python",
   "nbconvert_exporter": "python",
   "pygments_lexer": "ipython3",
   "version": "3.6.5"
  }
 },
 "nbformat": 4,
 "nbformat_minor": 2
}
